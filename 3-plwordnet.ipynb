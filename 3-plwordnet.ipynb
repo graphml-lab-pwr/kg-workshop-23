{
 "cells": [
  {
   "cell_type": "code",
   "execution_count": 1,
   "id": "fae253a7-8b9e-415d-88e5-7e2726f3ab33",
   "metadata": {},
   "outputs": [],
   "source": [
    "%load_ext autoreload\n",
    "%autoreload 2"
   ]
  },
  {
   "cell_type": "code",
   "execution_count": 2,
   "id": "e63d87bc-a747-4d68-9316-4bb4e8b60d58",
   "metadata": {},
   "outputs": [
    {
     "name": "stderr",
     "output_type": "stream",
     "text": [
      "2023-06-14 17:17:48.350651: I tensorflow/core/platform/cpu_feature_guard.cc:182] This TensorFlow binary is optimized to use available CPU instructions in performance-critical operations.\n",
      "To enable the following instructions: AVX2 FMA, in other operations, rebuild TensorFlow with the appropriate compiler flags.\n",
      "2023-06-14 17:17:48.877417: W tensorflow/compiler/tf2tensorrt/utils/py_utils.cc:38] TF-TRT Warning: Could not find TensorRT\n"
     ]
    }
   ],
   "source": [
    "import os\n",
    "import pykeen\n",
    "import matplotlib.pyplot as plt\n",
    "import torch\n",
    "from pykeen.datasets import Nations, WN18RR\n",
    "from pykeen.pipeline import pipeline\n",
    "from pykeen import predict\n",
    "from statistics import mean, median\n",
    "import pandas as pd\n",
    "import numpy as np\n",
    "import seaborn as sns\n",
    "import networkx as nx\n",
    "from pyvis.network import Network\n",
    "from ipywidgets import interact, interact_manual\n",
    "import ipywidgets as widgets\n",
    "from itertools import chain\n",
    "from pathlib import Path\n",
    "from rich import print\n",
    "import plwordnet\n",
    "import random\n",
    "from pykeen.triples import TriplesFactory\n",
    "from pykeen.datasets import EagerDataset\n",
    "\n",
    "from utils import prepare_for_visualization"
   ]
  },
  {
   "cell_type": "markdown",
   "id": "1aa368bd-734a-47e6-8054-857ba0014b77",
   "metadata": {},
   "source": [
    "## Settings"
   ]
  },
  {
   "cell_type": "code",
   "execution_count": 3,
   "id": "468a82cf-239e-4449-a4f9-d570a5c6f558",
   "metadata": {},
   "outputs": [],
   "source": [
    "pd.set_option(\"display.float_format\", lambda x: \"%.5f\" % x)"
   ]
  },
  {
   "cell_type": "markdown",
   "id": "e6f23caa-6d2c-41e6-bddf-9fe17b11ce10",
   "metadata": {},
   "source": [
    "## Loading data"
   ]
  },
  {
   "cell_type": "code",
   "execution_count": 4,
   "id": "144ef28a-1bf6-49b6-a5f8-b4cdfd6f4d76",
   "metadata": {},
   "outputs": [],
   "source": [
    "WORDNET_PATH = Path(\"data/plwordnet/plwordnet_4_2.xml\")"
   ]
  },
  {
   "cell_type": "code",
   "execution_count": 6,
   "id": "231848a0-127e-481c-940d-1614e30c18c6",
   "metadata": {},
   "outputs": [
    {
     "data": {
      "text/html": [
       "<pre style=\"white-space:pre;overflow-x:auto;line-height:normal;font-family:Menlo,'DejaVu Sans Mono',consolas,'Courier New',monospace\">Słowosieć\n",
       "  lexical units: <span style=\"color: #008080; text-decoration-color: #008080; font-weight: bold\">513410</span>\n",
       "  synsets: <span style=\"color: #008080; text-decoration-color: #008080; font-weight: bold\">353585</span>\n",
       "  relation types: <span style=\"color: #008080; text-decoration-color: #008080; font-weight: bold\">306</span>\n",
       "  synset relations: <span style=\"color: #008080; text-decoration-color: #008080; font-weight: bold\">1477851</span>\n",
       "  lexical relations: <span style=\"color: #008080; text-decoration-color: #008080; font-weight: bold\">393137</span>\n",
       "  emotional annotations: <span style=\"color: #008080; text-decoration-color: #008080; font-weight: bold\">0</span>\n",
       "  rich descriptions: <span style=\"color: #008080; text-decoration-color: #008080; font-weight: bold\">0</span>\n",
       "</pre>\n"
      ],
      "text/plain": [
       "Słowosieć\n",
       "  lexical units: \u001b[1;36m513410\u001b[0m\n",
       "  synsets: \u001b[1;36m353585\u001b[0m\n",
       "  relation types: \u001b[1;36m306\u001b[0m\n",
       "  synset relations: \u001b[1;36m1477851\u001b[0m\n",
       "  lexical relations: \u001b[1;36m393137\u001b[0m\n",
       "  emotional annotations: \u001b[1;36m0\u001b[0m\n",
       "  rich descriptions: \u001b[1;36m0\u001b[0m\n"
      ]
     },
     "metadata": {},
     "output_type": "display_data"
    }
   ],
   "source": [
    "wn = plwordnet.load(str(WORDNET_PATH))\n",
    "print(wn)"
   ]
  },
  {
   "cell_type": "code",
   "execution_count": 7,
   "id": "36bbc4ca-0fed-46c4-9a65-f43a167d8529",
   "metadata": {},
   "outputs": [],
   "source": [
    "def filter_pos_synsets(synsets:list, pos:str) -> list:\n",
    "    return [s_id for s_id, s in synsets.items() if all([lu.pos == pos for lu in s.lexical_units])]"
   ]
  },
  {
   "cell_type": "code",
   "execution_count": 8,
   "id": "48680c20-d882-4717-91c1-2fd93b1ba98d",
   "metadata": {},
   "outputs": [],
   "source": [
    "filtered_synsets = filter_pos_synsets(wn.synsets, \"NOUN\")"
   ]
  },
  {
   "cell_type": "code",
   "execution_count": 9,
   "id": "2f02c18d-83f1-4fdc-8f3f-bdd9712fe6f1",
   "metadata": {},
   "outputs": [],
   "source": [
    "sampled_synsets = set(random.sample(filtered_synsets, 150000))\n",
    "sampled_relations = set(list(sorted(wn.relation_types.keys()))[:50])"
   ]
  },
  {
   "cell_type": "code",
   "execution_count": 10,
   "id": "c6776698-6c0a-4d61-a2ab-2cdb95fd0425",
   "metadata": {},
   "outputs": [],
   "source": [
    "sampled = [\n",
    "    (h, r, t)\n",
    "    for h, r, t, in wn.synset_relations\n",
    "    if r in sampled_relations and h in sampled_synsets and t in sampled_synsets\n",
    "]\n",
    "sampled = np.array(sampled)"
   ]
  },
  {
   "cell_type": "code",
   "execution_count": 11,
   "id": "580b58f9-0ecd-497b-b70a-8b072b57aa75",
   "metadata": {},
   "outputs": [
    {
     "data": {
      "text/plain": [
       "array([['{rozmowa.1 konwersacja.1 dialog.1 dyskurs.1}', 'hiperonimia',\n",
       "        '{dyskusja.1 dysputa.1 debata.1 debatowanie.3 dysputacja.1}'],\n",
       "       ['{dyskusja.1 dysputa.1 debata.1 debatowanie.3 dysputacja.1}',\n",
       "        'hiponimia', '{rozmowa.1 konwersacja.1 dialog.1 dyskurs.1}']],\n",
       "      dtype='<U420')"
      ]
     },
     "execution_count": 11,
     "metadata": {},
     "output_type": "execute_result"
    }
   ],
   "source": [
    "labeled_sampled = np.array(\n",
    "    [\n",
    "        (str(wn.synsets[h]), str(wn.relation_types[r].name), str(wn.synsets[t]))\n",
    "        for h, r, t, in sampled\n",
    "    ]\n",
    ")\n",
    "labeled_sampled[:2]"
   ]
  },
  {
   "cell_type": "code",
   "execution_count": 17,
   "id": "531389b7-997a-41c9-8822-59e814511e65",
   "metadata": {},
   "outputs": [],
   "source": [
    "triples = TriplesFactory.from_labeled_triples(labeled_sampled, create_inverse_triples=True)"
   ]
  },
  {
   "cell_type": "code",
   "execution_count": 18,
   "id": "bbb58d06-4684-48b3-bf8c-f88adf8609c7",
   "metadata": {
    "scrolled": true
   },
   "outputs": [
    {
     "name": "stderr",
     "output_type": "stream",
     "text": [
      "using automatically assigned random_state=1871817341\n"
     ]
    }
   ],
   "source": [
    "training, testing = triples.split(0.95)"
   ]
  },
  {
   "cell_type": "code",
   "execution_count": 19,
   "id": "fbc45ce2-934a-4a19-a7e3-9e4f90ef9e76",
   "metadata": {},
   "outputs": [],
   "source": [
    "dataset = EagerDataset(training, testing)"
   ]
  },
  {
   "cell_type": "markdown",
   "id": "37843205-f5cf-4a77-8f5c-87e0d65cc5b4",
   "metadata": {},
   "source": [
    "## Training "
   ]
  },
  {
   "cell_type": "code",
   "execution_count": 20,
   "id": "d50930b0-cf8d-48b0-90cd-807b24ac304c",
   "metadata": {},
   "outputs": [],
   "source": [
    "from pykeen.nn.modules import TransEInteraction"
   ]
  },
  {
   "cell_type": "code",
   "execution_count": null,
   "id": "50f0ec1d-0f32-42b9-a08e-ce18b8292e19",
   "metadata": {},
   "outputs": [
    {
     "name": "stderr",
     "output_type": "stream",
     "text": [
      "WARNING:pykeen.utils:No cuda devices were available. The model runs on CPU\n",
      "INFO:pykeen.pipeline.api:Using device: None\n"
     ]
    },
    {
     "data": {
      "application/vnd.jupyter.widget-view+json": {
       "model_id": "",
       "version_major": 2,
       "version_minor": 0
      },
      "text/plain": [
       "sampling:   0%|          | 0.00/66.5k [00:00<?, ?it/s]"
      ]
     },
     "metadata": {},
     "output_type": "display_data"
    },
    {
     "name": "stderr",
     "output_type": "stream",
     "text": [
      "WARNING:pykeen.nn.combination:No symbolic computation of output shape.\n",
      "INFO:pykeen.triples.triples_factory:Creating inverse triples.\n"
     ]
    },
    {
     "data": {
      "application/vnd.jupyter.widget-view+json": {
       "model_id": "5b565fbf7b2b48e5bd7aa9dd38d66493",
       "version_major": 2,
       "version_minor": 0
      },
      "text/plain": [
       "Training epochs on cpu:   0%|          | 0/25 [00:00<?, ?epoch/s]"
      ]
     },
     "metadata": {},
     "output_type": "display_data"
    },
    {
     "name": "stderr",
     "output_type": "stream",
     "text": [
      "INFO:pykeen.triples.triples_factory:Creating inverse triples.\n"
     ]
    },
    {
     "data": {
      "application/vnd.jupyter.widget-view+json": {
       "model_id": "",
       "version_major": 2,
       "version_minor": 0
      },
      "text/plain": [
       "Training batches on cpu:   0%|          | 0/545 [00:00<?, ?batch/s]"
      ]
     },
     "metadata": {},
     "output_type": "display_data"
    },
    {
     "data": {
      "application/vnd.jupyter.widget-view+json": {
       "model_id": "",
       "version_major": 2,
       "version_minor": 0
      },
      "text/plain": [
       "Training batches on cpu:   0%|          | 0/545 [00:00<?, ?batch/s]"
      ]
     },
     "metadata": {},
     "output_type": "display_data"
    },
    {
     "data": {
      "application/vnd.jupyter.widget-view+json": {
       "model_id": "",
       "version_major": 2,
       "version_minor": 0
      },
      "text/plain": [
       "Training batches on cpu:   0%|          | 0/545 [00:00<?, ?batch/s]"
      ]
     },
     "metadata": {},
     "output_type": "display_data"
    },
    {
     "data": {
      "application/vnd.jupyter.widget-view+json": {
       "model_id": "",
       "version_major": 2,
       "version_minor": 0
      },
      "text/plain": [
       "Training batches on cpu:   0%|          | 0/545 [00:00<?, ?batch/s]"
      ]
     },
     "metadata": {},
     "output_type": "display_data"
    },
    {
     "data": {
      "application/vnd.jupyter.widget-view+json": {
       "model_id": "",
       "version_major": 2,
       "version_minor": 0
      },
      "text/plain": [
       "Training batches on cpu:   0%|          | 0/545 [00:00<?, ?batch/s]"
      ]
     },
     "metadata": {},
     "output_type": "display_data"
    },
    {
     "data": {
      "application/vnd.jupyter.widget-view+json": {
       "model_id": "",
       "version_major": 2,
       "version_minor": 0
      },
      "text/plain": [
       "Training batches on cpu:   0%|          | 0/545 [00:00<?, ?batch/s]"
      ]
     },
     "metadata": {},
     "output_type": "display_data"
    },
    {
     "data": {
      "application/vnd.jupyter.widget-view+json": {
       "model_id": "",
       "version_major": 2,
       "version_minor": 0
      },
      "text/plain": [
       "Training batches on cpu:   0%|          | 0/545 [00:00<?, ?batch/s]"
      ]
     },
     "metadata": {},
     "output_type": "display_data"
    },
    {
     "data": {
      "application/vnd.jupyter.widget-view+json": {
       "model_id": "3eb883c2ced34d05a7c8dbd97ec46736",
       "version_major": 2,
       "version_minor": 0
      },
      "text/plain": [
       "Training batches on cpu:   0%|          | 0/545 [00:00<?, ?batch/s]"
      ]
     },
     "metadata": {},
     "output_type": "display_data"
    }
   ],
   "source": [
    "result = pipeline(\n",
    "    dataset=dataset,\n",
    "    model=\"NodePiece\",\n",
    "    model_kwargs={\"embedding_dim\": 256, \"num_tokens\":20},\n",
    "    loss=\"nssa\",\n",
    "    loss_kwargs={\"adversarial_temperature\": 0.34, \"margin\": 9},\n",
    "    optimizer=\"Adam\",\n",
    "    optimizer_kwargs={\"lr\": 0.004},\n",
    "    negative_sampler_kwargs={\"num_negs_per_pos\": 33},\n",
    "    training_kwargs=dict(\n",
    "        num_epochs=25,\n",
    "        batch_size=512,\n",
    "        use_tqdm_batch=True,\n",
    "    ),\n",
    "    random_seed=123,\n",
    ")"
   ]
  },
  {
   "cell_type": "code",
   "execution_count": 23,
   "id": "d2efe8c1-2af2-423b-aa85-77c9bcd5286b",
   "metadata": {},
   "outputs": [
    {
     "name": "stderr",
     "output_type": "stream",
     "text": [
      "INFO:pykeen.triples.triples_factory:Stored TriplesFactory(num_entities=66546, num_relations=24, create_inverse_triples=True, num_triples=139517) to file:///home/albert/dev/kg-workshop-23/results/training_triples\n",
      "INFO:pykeen.pipeline.api:Saved to directory: file:///home/albert/dev/kg-workshop-23/results\n"
     ]
    },
    {
     "data": {
      "text/html": [
       "<pre style=\"white-space:pre;overflow-x:auto;line-height:normal;font-family:Menlo,'DejaVu Sans Mono',consolas,'Courier New',monospace\">Saved: <span style=\"font-weight: bold\">[</span><span style=\"color: #008000; text-decoration-color: #008000\">'metadata.json'</span>, <span style=\"color: #008000; text-decoration-color: #008000\">'results.json'</span>, <span style=\"color: #008000; text-decoration-color: #008000\">'training_triples'</span>, <span style=\"color: #008000; text-decoration-color: #008000\">'trained_model.pkl'</span><span style=\"font-weight: bold\">]</span>\n",
       "</pre>\n"
      ],
      "text/plain": [
       "Saved: \u001b[1m[\u001b[0m\u001b[32m'metadata.json'\u001b[0m, \u001b[32m'results.json'\u001b[0m, \u001b[32m'training_triples'\u001b[0m, \u001b[32m'trained_model.pkl'\u001b[0m\u001b[1m]\u001b[0m\n"
      ]
     },
     "metadata": {},
     "output_type": "display_data"
    }
   ],
   "source": [
    "save_location = Path(\"results\")\n",
    "save_location.mkdir(exist_ok=True)\n",
    "result.save_to_directory(save_location)\n",
    "print(f\"Saved: {os.listdir(save_location)}\")"
   ]
  },
  {
   "cell_type": "markdown",
   "id": "e704a3fe-e988-43ff-8215-4335af746af1",
   "metadata": {},
   "source": [
    "## Metrics"
   ]
  },
  {
   "cell_type": "code",
   "execution_count": 24,
   "id": "e0d874e8-4be3-47d6-87d1-4f5282c1cee5",
   "metadata": {},
   "outputs": [
    {
     "data": {
      "image/png": "[encoded data removed]",
      "text/plain": [
       "<Figure size 640x480 with 1 Axes>"
      ]
     },
     "metadata": {},
     "output_type": "display_data"
    }
   ],
   "source": [
    "result.plot_losses()\n",
    "plt.show()"
   ]
  },
  {
   "cell_type": "code",
   "execution_count": 25,
   "id": "399f7334-cdfc-4739-97a3-b43128198f07",
   "metadata": {},
   "outputs": [],
   "source": [
    "metrics = result.metric_results.to_df()"
   ]
  },
  {
   "cell_type": "code",
   "execution_count": 26,
   "id": "a39c5792-ec32-470d-aec0-d65558a5071f",
   "metadata": {},
   "outputs": [
    {
     "data": {
      "text/html": [
       "<div>\n",
       "<style scoped>\n",
       "    .dataframe tbody tr th:only-of-type {\n",
       "        vertical-align: middle;\n",
       "    }\n",
       "\n",
       "    .dataframe tbody tr th {\n",
       "        vertical-align: top;\n",
       "    }\n",
       "\n",
       "    .dataframe thead th {\n",
       "        text-align: right;\n",
       "    }\n",
       "</style>\n",
       "<table border=\"1\" class=\"dataframe\">\n",
       "  <thead>\n",
       "    <tr style=\"text-align: right;\">\n",
       "      <th></th>\n",
       "      <th>Side</th>\n",
       "      <th>Type</th>\n",
       "      <th>Metric</th>\n",
       "      <th>Value</th>\n",
       "    </tr>\n",
       "  </thead>\n",
       "  <tbody>\n",
       "    <tr>\n",
       "      <th>5</th>\n",
       "      <td>both</td>\n",
       "      <td>realistic</td>\n",
       "      <td>geometric_mean_rank</td>\n",
       "      <td>17463.89648</td>\n",
       "    </tr>\n",
       "    <tr>\n",
       "      <th>14</th>\n",
       "      <td>both</td>\n",
       "      <td>realistic</td>\n",
       "      <td>median_absolute_deviation</td>\n",
       "      <td>26692.77034</td>\n",
       "    </tr>\n",
       "    <tr>\n",
       "      <th>23</th>\n",
       "      <td>both</td>\n",
       "      <td>realistic</td>\n",
       "      <td>adjusted_geometric_mean_rank_index</td>\n",
       "      <td>0.28655</td>\n",
       "    </tr>\n",
       "    <tr>\n",
       "      <th>32</th>\n",
       "      <td>both</td>\n",
       "      <td>realistic</td>\n",
       "      <td>z_inverse_harmonic_mean_rank</td>\n",
       "      <td>6.90364</td>\n",
       "    </tr>\n",
       "    <tr>\n",
       "      <th>41</th>\n",
       "      <td>both</td>\n",
       "      <td>realistic</td>\n",
       "      <td>harmonic_mean_rank</td>\n",
       "      <td>2180.11105</td>\n",
       "    </tr>\n",
       "    <tr>\n",
       "      <th>50</th>\n",
       "      <td>both</td>\n",
       "      <td>realistic</td>\n",
       "      <td>inverse_harmonic_mean_rank</td>\n",
       "      <td>0.00046</td>\n",
       "    </tr>\n",
       "    <tr>\n",
       "      <th>59</th>\n",
       "      <td>both</td>\n",
       "      <td>realistic</td>\n",
       "      <td>inverse_geometric_mean_rank</td>\n",
       "      <td>0.00006</td>\n",
       "    </tr>\n",
       "    <tr>\n",
       "      <th>68</th>\n",
       "      <td>both</td>\n",
       "      <td>realistic</td>\n",
       "      <td>variance</td>\n",
       "      <td>560497600.00000</td>\n",
       "    </tr>\n",
       "    <tr>\n",
       "      <th>77</th>\n",
       "      <td>both</td>\n",
       "      <td>realistic</td>\n",
       "      <td>arithmetic_mean_rank</td>\n",
       "      <td>30049.69727</td>\n",
       "    </tr>\n",
       "    <tr>\n",
       "      <th>86</th>\n",
       "      <td>both</td>\n",
       "      <td>realistic</td>\n",
       "      <td>median_rank</td>\n",
       "      <td>20647.00000</td>\n",
       "    </tr>\n",
       "    <tr>\n",
       "      <th>95</th>\n",
       "      <td>both</td>\n",
       "      <td>realistic</td>\n",
       "      <td>inverse_median_rank</td>\n",
       "      <td>0.00005</td>\n",
       "    </tr>\n",
       "    <tr>\n",
       "      <th>104</th>\n",
       "      <td>both</td>\n",
       "      <td>realistic</td>\n",
       "      <td>z_arithmetic_mean_rank</td>\n",
       "      <td>20.28768</td>\n",
       "    </tr>\n",
       "    <tr>\n",
       "      <th>113</th>\n",
       "      <td>both</td>\n",
       "      <td>realistic</td>\n",
       "      <td>z_geometric_mean_rank</td>\n",
       "      <td>34.74493</td>\n",
       "    </tr>\n",
       "    <tr>\n",
       "      <th>122</th>\n",
       "      <td>both</td>\n",
       "      <td>realistic</td>\n",
       "      <td>adjusted_arithmetic_mean_rank_index</td>\n",
       "      <td>0.09666</td>\n",
       "    </tr>\n",
       "    <tr>\n",
       "      <th>131</th>\n",
       "      <td>both</td>\n",
       "      <td>realistic</td>\n",
       "      <td>adjusted_inverse_harmonic_mean_rank</td>\n",
       "      <td>0.00028</td>\n",
       "    </tr>\n",
       "    <tr>\n",
       "      <th>140</th>\n",
       "      <td>both</td>\n",
       "      <td>realistic</td>\n",
       "      <td>count</td>\n",
       "      <td>14686.00000</td>\n",
       "    </tr>\n",
       "    <tr>\n",
       "      <th>149</th>\n",
       "      <td>both</td>\n",
       "      <td>realistic</td>\n",
       "      <td>standard_deviation</td>\n",
       "      <td>23674.83008</td>\n",
       "    </tr>\n",
       "    <tr>\n",
       "      <th>158</th>\n",
       "      <td>both</td>\n",
       "      <td>realistic</td>\n",
       "      <td>adjusted_arithmetic_mean_rank</td>\n",
       "      <td>0.90335</td>\n",
       "    </tr>\n",
       "    <tr>\n",
       "      <th>167</th>\n",
       "      <td>both</td>\n",
       "      <td>realistic</td>\n",
       "      <td>inverse_arithmetic_mean_rank</td>\n",
       "      <td>0.00003</td>\n",
       "    </tr>\n",
       "    <tr>\n",
       "      <th>176</th>\n",
       "      <td>both</td>\n",
       "      <td>realistic</td>\n",
       "      <td>hits_at_1</td>\n",
       "      <td>0.00000</td>\n",
       "    </tr>\n",
       "    <tr>\n",
       "      <th>185</th>\n",
       "      <td>both</td>\n",
       "      <td>realistic</td>\n",
       "      <td>hits_at_3</td>\n",
       "      <td>0.00034</td>\n",
       "    </tr>\n",
       "    <tr>\n",
       "      <th>194</th>\n",
       "      <td>both</td>\n",
       "      <td>realistic</td>\n",
       "      <td>hits_at_5</td>\n",
       "      <td>0.00034</td>\n",
       "    </tr>\n",
       "    <tr>\n",
       "      <th>203</th>\n",
       "      <td>both</td>\n",
       "      <td>realistic</td>\n",
       "      <td>hits_at_10</td>\n",
       "      <td>0.00054</td>\n",
       "    </tr>\n",
       "    <tr>\n",
       "      <th>212</th>\n",
       "      <td>both</td>\n",
       "      <td>realistic</td>\n",
       "      <td>z_hits_at_k</td>\n",
       "      <td>3.89900</td>\n",
       "    </tr>\n",
       "    <tr>\n",
       "      <th>221</th>\n",
       "      <td>both</td>\n",
       "      <td>realistic</td>\n",
       "      <td>adjusted_hits_at_k</td>\n",
       "      <td>0.00039</td>\n",
       "    </tr>\n",
       "  </tbody>\n",
       "</table>\n",
       "</div>"
      ],
      "text/plain": [
       "     Side       Type                               Metric           Value\n",
       "5    both  realistic                  geometric_mean_rank     17463.89648\n",
       "14   both  realistic            median_absolute_deviation     26692.77034\n",
       "23   both  realistic   adjusted_geometric_mean_rank_index         0.28655\n",
       "32   both  realistic         z_inverse_harmonic_mean_rank         6.90364\n",
       "41   both  realistic                   harmonic_mean_rank      2180.11105\n",
       "50   both  realistic           inverse_harmonic_mean_rank         0.00046\n",
       "59   both  realistic          inverse_geometric_mean_rank         0.00006\n",
       "68   both  realistic                             variance 560497600.00000\n",
       "77   both  realistic                 arithmetic_mean_rank     30049.69727\n",
       "86   both  realistic                          median_rank     20647.00000\n",
       "95   both  realistic                  inverse_median_rank         0.00005\n",
       "104  both  realistic               z_arithmetic_mean_rank        20.28768\n",
       "113  both  realistic                z_geometric_mean_rank        34.74493\n",
       "122  both  realistic  adjusted_arithmetic_mean_rank_index         0.09666\n",
       "131  both  realistic  adjusted_inverse_harmonic_mean_rank         0.00028\n",
       "140  both  realistic                                count     14686.00000\n",
       "149  both  realistic                   standard_deviation     23674.83008\n",
       "158  both  realistic        adjusted_arithmetic_mean_rank         0.90335\n",
       "167  both  realistic         inverse_arithmetic_mean_rank         0.00003\n",
       "176  both  realistic                            hits_at_1         0.00000\n",
       "185  both  realistic                            hits_at_3         0.00034\n",
       "194  both  realistic                            hits_at_5         0.00034\n",
       "203  both  realistic                           hits_at_10         0.00054\n",
       "212  both  realistic                          z_hits_at_k         3.89900\n",
       "221  both  realistic                   adjusted_hits_at_k         0.00039"
      ]
     },
     "execution_count": 26,
     "metadata": {},
     "output_type": "execute_result"
    }
   ],
   "source": [
    "metrics[(metrics.Side == \"both\") & (metrics.Type == \"realistic\")]"
   ]
  },
  {
   "cell_type": "markdown",
   "id": "99dd0181-717b-446e-b486-69aaa622dc0b",
   "metadata": {},
   "source": [
    "## Embeddings visualization"
   ]
  },
  {
   "cell_type": "code",
   "execution_count": 27,
   "id": "cbe46181-124b-45fe-b144-51c2d51af94a",
   "metadata": {},
   "outputs": [
    {
     "data": {
      "text/plain": [
       "NodePiece(\n",
       "  (loss): NSSALoss()\n",
       "  (interaction): DistMultInteraction()\n",
       "  (entity_representations): ModuleList(\n",
       "    (0): NodePieceRepresentation(\n",
       "      (base): ModuleList(\n",
       "        (0): TokenizationRepresentation(\n",
       "          (vocabulary): Embedding(\n",
       "            (_embeddings): Embedding(25, 32)\n",
       "          )\n",
       "        )\n",
       "      )\n",
       "      (combination): ConcatAggregationCombination()\n",
       "    )\n",
       "  )\n",
       "  (relation_representations): ModuleList(\n",
       "    (0): SubsetRepresentation(\n",
       "      (base): Embedding(\n",
       "        (_embeddings): Embedding(25, 32)\n",
       "      )\n",
       "    )\n",
       "  )\n",
       "  (weight_regularizers): ModuleList()\n",
       ")"
      ]
     },
     "execution_count": 27,
     "metadata": {},
     "output_type": "execute_result"
    }
   ],
   "source": [
    "model = result.model\n",
    "model"
   ]
  },
  {
   "cell_type": "code",
   "execution_count": 28,
   "id": "d7f5d5e6-0c32-4c58-84a6-c8d9d3f35341",
   "metadata": {},
   "outputs": [
    {
     "data": {
      "text/plain": [
       "NodePieceRepresentation(\n",
       "  (base): ModuleList(\n",
       "    (0): TokenizationRepresentation(\n",
       "      (vocabulary): Embedding(\n",
       "        (_embeddings): Embedding(25, 32)\n",
       "      )\n",
       "    )\n",
       "  )\n",
       "  (combination): ConcatAggregationCombination()\n",
       ")"
      ]
     },
     "execution_count": 28,
     "metadata": {},
     "output_type": "execute_result"
    }
   ],
   "source": [
    "result.model.entity_representations[0]#.combined.entity_representations#(torch.tensor[0])"
   ]
  },
  {
   "cell_type": "code",
   "execution_count": 30,
   "id": "1a8263fa-0045-49a0-a141-410b9928adc1",
   "metadata": {},
   "outputs": [],
   "source": [
    "embeddings = result.model.entity_representations[0](torch.arange(dataset.num_entities))\n",
    "labels = np.array(\n",
    "    [dataset.training.entity_id_to_label[i] for i in range(dataset.num_entities)]\n",
    ")"
   ]
  },
  {
   "cell_type": "code",
   "execution_count": null,
   "id": "509fe475-8f7d-471f-8135-7d9f1665f199",
   "metadata": {},
   "outputs": [],
   "source": [
    "result.model.entity_representations[0]"
   ]
  },
  {
   "cell_type": "code",
   "execution_count": null,
   "id": "59e2d5b9-5b8b-4b1c-9608-9c25fa7665dc",
   "metadata": {},
   "outputs": [],
   "source": [
    "embeddings = result.model.entity_representations[0].combined.enriched_representations[0]"
   ]
  },
  {
   "cell_type": "code",
   "execution_count": 31,
   "id": "07562004-2706-4b7c-85ac-f04f75e9d748",
   "metadata": {},
   "outputs": [
    {
     "data": {
      "text/plain": [
       "66546"
      ]
     },
     "execution_count": 31,
     "metadata": {},
     "output_type": "execute_result"
    }
   ],
   "source": [
    "len(embeddings)"
   ]
  },
  {
   "cell_type": "code",
   "execution_count": 32,
   "id": "19c6dcac-7b1e-4837-8938-5b65a2c6397e",
   "metadata": {},
   "outputs": [],
   "source": [
    "sampled_embeddings_idx = random.sample(list(range(len(embeddings))), 5000)"
   ]
  },
  {
   "cell_type": "code",
   "execution_count": 33,
   "id": "798d4e76-08d1-4c96-9d13-2b39bdc03448",
   "metadata": {},
   "outputs": [],
   "source": [
    "prepare_for_visualization(\n",
    "    embeddings.detach().numpy()[sampled_embeddings_idx],\n",
    "    labels[sampled_embeddings_idx],\n",
    "    Path(\"logs/plwordnet\"),\n",
    ")"
   ]
  },
  {
   "cell_type": "code",
   "execution_count": 34,
   "id": "a2a7ea8c-f74d-456a-ba29-69a0e0e11b42",
   "metadata": {},
   "outputs": [
    {
     "name": "stdout",
     "output_type": "stream",
     "text": [
      "2023-06-14 17:28:02.034840: W tensorflow/compiler/tf2tensorrt/utils/py_utils.cc:38] TF-TRT Warning: Could not find TensorRT\n",
      "\n",
      "NOTE: Using experimental fast data loading logic. To disable, pass\n",
      "    \"--load_fast=false\" and report issues on GitHub. More details:\n",
      "    https://github.com/tensorflow/tensorboard/issues/4784\n",
      "\n",
      "Serving TensorBoard on localhost; to expose to the network, use a proxy or pass --bind_all\n",
      "TensorBoard 2.12.0 at http://localhost:6006/ (Press CTRL+C to quit)\n",
      "^C\n"
     ]
    }
   ],
   "source": [
    "!tensorboard --logdir=logs/plwordnet "
   ]
  },
  {
   "cell_type": "code",
   "execution_count": null,
   "id": "c3fbc66c-b17a-4e8c-9ee4-953662f7c3b8",
   "metadata": {},
   "outputs": [],
   "source": []
  }
 ],
 "metadata": {
  "kernelspec": {
   "display_name": "Python 3 (ipykernel)",
   "language": "python",
   "name": "python3"
  },
  "language_info": {
   "codemirror_mode": {
    "name": "ipython",
    "version": 3
   },
   "file_extension": ".py",
   "mimetype": "text/x-python",
   "name": "python",
   "nbconvert_exporter": "python",
   "pygments_lexer": "ipython3",
   "version": "3.10.11"
  }
 },
 "nbformat": 4,
 "nbformat_minor": 5
}
