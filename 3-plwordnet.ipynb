{
 "cells": [
  {
   "cell_type": "code",
   "execution_count": 1,
   "id": "fae253a7-8b9e-415d-88e5-7e2726f3ab33",
   "metadata": {},
   "outputs": [],
   "source": [
    "%load_ext autoreload\n",
    "%autoreload 2"
   ]
  },
  {
   "cell_type": "code",
   "execution_count": 2,
   "id": "70df50f6-ddfb-4c7c-8681-0528910dec97",
   "metadata": {},
   "outputs": [],
   "source": [
    "import os\n",
    "\n",
    "os.environ[\"TF_CPP_MIN_LOG_LEVEL\"] = \"3\""
   ]
  },
  {
   "cell_type": "code",
   "execution_count": 3,
   "id": "e63d87bc-a747-4d68-9316-4bb4e8b60d58",
   "metadata": {},
   "outputs": [],
   "source": [
    "import logging\n",
    "import matplotlib.pyplot as plt\n",
    "import torch\n",
    "from pykeen.pipeline import pipeline\n",
    "from statistics import mean, median\n",
    "import pandas as pd\n",
    "import numpy as np\n",
    "import seaborn as sns\n",
    "import networkx as nx\n",
    "from pyvis.network import Network\n",
    "from ipywidgets import interact\n",
    "import ipywidgets as widgets\n",
    "from itertools import chain\n",
    "from pathlib import Path\n",
    "from rich import print\n",
    "import plwordnet\n",
    "import random\n",
    "from pykeen.triples import TriplesFactory\n",
    "from pykeen.datasets import EagerDataset\n",
    "\n",
    "from utils import prepare_for_visualization"
   ]
  },
  {
   "cell_type": "markdown",
   "id": "1aa368bd-734a-47e6-8054-857ba0014b77",
   "metadata": {},
   "source": [
    "## Settings"
   ]
  },
  {
   "cell_type": "code",
   "execution_count": 4,
   "id": "468a82cf-239e-4449-a4f9-d570a5c6f558",
   "metadata": {},
   "outputs": [],
   "source": [
    "import warnings\n",
    "\n",
    "warnings.filterwarnings(\"ignore\")\n",
    "warnings.simplefilter(\"ignore\")\n",
    "\n",
    "pd.set_option(\"display.float_format\", lambda x: \"%.5f\" % x)\n",
    "logging.getLogger(\"pykeen\").setLevel(logging.CRITICAL)"
   ]
  },
  {
   "cell_type": "markdown",
   "id": "e6f23caa-6d2c-41e6-bddf-9fe17b11ce10",
   "metadata": {},
   "source": [
    "## Loading data"
   ]
  },
  {
   "cell_type": "code",
   "execution_count": 5,
   "id": "144ef28a-1bf6-49b6-a5f8-b4cdfd6f4d76",
   "metadata": {},
   "outputs": [],
   "source": [
    "WORDNET_PATH = Path(\"data/plwordnet/plwordnet_4_2.xml\")"
   ]
  },
  {
   "cell_type": "code",
   "execution_count": 6,
   "id": "231848a0-127e-481c-940d-1614e30c18c6",
   "metadata": {},
   "outputs": [
    {
     "data": {
      "text/html": [
       "<pre style=\"white-space:pre;overflow-x:auto;line-height:normal;font-family:Menlo,'DejaVu Sans Mono',consolas,'Courier New',monospace\">Słowosieć\n",
       "  lexical units: <span style=\"color: #008080; text-decoration-color: #008080; font-weight: bold\">513410</span>\n",
       "  synsets: <span style=\"color: #008080; text-decoration-color: #008080; font-weight: bold\">353585</span>\n",
       "  relation types: <span style=\"color: #008080; text-decoration-color: #008080; font-weight: bold\">306</span>\n",
       "  synset relations: <span style=\"color: #008080; text-decoration-color: #008080; font-weight: bold\">1477851</span>\n",
       "  lexical relations: <span style=\"color: #008080; text-decoration-color: #008080; font-weight: bold\">393137</span>\n",
       "  emotional annotations: <span style=\"color: #008080; text-decoration-color: #008080; font-weight: bold\">0</span>\n",
       "  rich descriptions: <span style=\"color: #008080; text-decoration-color: #008080; font-weight: bold\">0</span>\n",
       "</pre>\n"
      ],
      "text/plain": [
       "Słowosieć\n",
       "  lexical units: \u001B[1;36m513410\u001B[0m\n",
       "  synsets: \u001B[1;36m353585\u001B[0m\n",
       "  relation types: \u001B[1;36m306\u001B[0m\n",
       "  synset relations: \u001B[1;36m1477851\u001B[0m\n",
       "  lexical relations: \u001B[1;36m393137\u001B[0m\n",
       "  emotional annotations: \u001B[1;36m0\u001B[0m\n",
       "  rich descriptions: \u001B[1;36m0\u001B[0m\n"
      ]
     },
     "metadata": {},
     "output_type": "display_data"
    }
   ],
   "source": [
    "wn = plwordnet.load(str(WORDNET_PATH))\n",
    "print(wn)"
   ]
  },
  {
   "cell_type": "code",
   "execution_count": 7,
   "id": "36bbc4ca-0fed-46c4-9a65-f43a167d8529",
   "metadata": {},
   "outputs": [],
   "source": [
    "def filter_pos_synsets(synsets: list, pos: str) -> list:\n",
    "    return [\n",
    "        s_id\n",
    "        for s_id, s in synsets.items()\n",
    "        if all([lu.pos == pos for lu in s.lexical_units])\n",
    "    ]"
   ]
  },
  {
   "cell_type": "code",
   "execution_count": 8,
   "id": "48680c20-d882-4717-91c1-2fd93b1ba98d",
   "metadata": {},
   "outputs": [],
   "source": [
    "filtered_synsets = filter_pos_synsets(wn.synsets, \"NOUN\")"
   ]
  },
  {
   "cell_type": "code",
   "execution_count": 9,
   "id": "2f02c18d-83f1-4fdc-8f3f-bdd9712fe6f1",
   "metadata": {},
   "outputs": [],
   "source": [
    "sampled_synsets = set(random.sample(filtered_synsets, 150000))\n",
    "sampled_relations = set(list(sorted(wn.relation_types.keys()))[:50])"
   ]
  },
  {
   "cell_type": "code",
   "execution_count": 10,
   "id": "c6776698-6c0a-4d61-a2ab-2cdb95fd0425",
   "metadata": {},
   "outputs": [],
   "source": [
    "sampled = [\n",
    "    (h, r, t)\n",
    "    for h, r, t, in wn.synset_relations\n",
    "    if r in sampled_relations and h in sampled_synsets and t in sampled_synsets\n",
    "]\n",
    "sampled = np.array(sampled)"
   ]
  },
  {
   "cell_type": "code",
   "execution_count": 11,
   "id": "580b58f9-0ecd-497b-b70a-8b072b57aa75",
   "metadata": {},
   "outputs": [
    {
     "data": {
      "text/plain": [
       "array([['{rozmowa.1 konwersacja.1 dialog.1 dyskurs.1}', 'hiperonimia',\n",
       "        '{pogawędka.1 pogaduszka.1 pogwarka.1 pogaducha.1 rozmówka.1 gawędka.1 gawęda.3 gadu-gadu.1}'],\n",
       "       ['{pogawędka.1 pogaduszka.1 pogwarka.1 pogaducha.1 rozmówka.1 gawędka.1 gawęda.3 gadu-gadu.1}',\n",
       "        'hiponimia', '{rozmowa.1 konwersacja.1 dialog.1 dyskurs.1}']],\n",
       "      dtype='<U271')"
      ]
     },
     "execution_count": 11,
     "metadata": {},
     "output_type": "execute_result"
    }
   ],
   "source": [
    "labeled_sampled = np.array(\n",
    "    [\n",
    "        (str(wn.synsets[h]), str(wn.relation_types[r].name), str(wn.synsets[t]))\n",
    "        for h, r, t, in sampled\n",
    "    ]\n",
    ")\n",
    "labeled_sampled[:2]"
   ]
  },
  {
   "cell_type": "code",
   "execution_count": 12,
   "id": "531389b7-997a-41c9-8822-59e814511e65",
   "metadata": {},
   "outputs": [],
   "source": [
    "triples = TriplesFactory.from_labeled_triples(labeled_sampled)"
   ]
  },
  {
   "cell_type": "code",
   "execution_count": 13,
   "id": "bbb58d06-4684-48b3-bf8c-f88adf8609c7",
   "metadata": {
    "scrolled": true
   },
   "outputs": [],
   "source": [
    "training, testing = triples.split(0.95)"
   ]
  },
  {
   "cell_type": "code",
   "execution_count": 14,
   "id": "fbc45ce2-934a-4a19-a7e3-9e4f90ef9e76",
   "metadata": {},
   "outputs": [],
   "source": [
    "dataset = EagerDataset(training, testing)"
   ]
  },
  {
   "cell_type": "code",
   "execution_count": 15,
   "id": "9e97f310-506f-461a-a2f4-5369b2645fd0",
   "metadata": {},
   "outputs": [],
   "source": [
    "g = nx.DiGraph()\n",
    "g.add_edges_from([(h, t, {\"title\": r}) for h, r, t in dataset.training.triples])"
   ]
  },
  {
   "cell_type": "markdown",
   "id": "ec70b691-b1c8-408a-a047-107f338a307c",
   "metadata": {},
   "source": [
    "## Visualization"
   ]
  },
  {
   "cell_type": "code",
   "execution_count": 16,
   "id": "c459b71d-9721-4fdc-8810-f8db3b5aaf37",
   "metadata": {},
   "outputs": [
    {
     "data": {
      "application/vnd.jupyter.widget-view+json": {
       "model_id": "0a2814f591854d35982c33ba1d818a0c",
       "version_major": 2,
       "version_minor": 0
      },
      "text/plain": [
       "interactive(children=(SelectMultiple(description='nodes', index=(0,), options=('{1,2-benzochinon.1 o-benzochin…"
      ]
     },
     "metadata": {},
     "output_type": "display_data"
    }
   ],
   "source": [
    "_list_nodes = list(g.nodes)\n",
    "\n",
    "\n",
    "@interact\n",
    "def visualize(\n",
    "    nodes=widgets.SelectMultiple(\n",
    "        options=list(g.nodes), rows=10, value=[_list_nodes[0]]\n",
    "    ),\n",
    "    k=[0, 1, 2, 3],\n",
    "    toggle_physics=False,\n",
    "):\n",
    "    filtered = set(\n",
    "        chain(\n",
    "            *[\n",
    "                list(nx.single_source_shortest_path_length(g, n, cutoff=k))\n",
    "                for n in nodes\n",
    "            ]\n",
    "        )\n",
    "    )\n",
    "    # print(filtered)\n",
    "    subgraph = nx.subgraph_view(g, filter_node=lambda x: x in filtered)\n",
    "    nt = Network(\n",
    "        \"500px\", \"500px\", directed=True, notebook=True, cdn_resources=\"in_line\"\n",
    "    )\n",
    "    nt.inherit_edge_colors(False)\n",
    "    nt.from_nx(subgraph)\n",
    "    nt.toggle_physics(toggle_physics)\n",
    "    display(nt.show(\"basic.html\"))"
   ]
  },
  {
   "cell_type": "markdown",
   "id": "b39acfed-f523-48ff-9bb1-4440dcde625a",
   "metadata": {},
   "source": [
    "## EDA"
   ]
  },
  {
   "cell_type": "code",
   "execution_count": 18,
   "id": "cee4242d-be56-4e11-89b3-1e155ed5da52",
   "metadata": {},
   "outputs": [
    {
     "data": {
      "text/html": [
       "<div>\n",
       "<style scoped>\n",
       "    .dataframe tbody tr th:only-of-type {\n",
       "        vertical-align: middle;\n",
       "    }\n",
       "\n",
       "    .dataframe tbody tr th {\n",
       "        vertical-align: top;\n",
       "    }\n",
       "\n",
       "    .dataframe thead th {\n",
       "        text-align: right;\n",
       "    }\n",
       "</style>\n",
       "<table border=\"1\" class=\"dataframe\">\n",
       "  <thead>\n",
       "    <tr style=\"text-align: right;\">\n",
       "      <th></th>\n",
       "      <th>subset</th>\n",
       "      <th>num_triples</th>\n",
       "      <th>num_entities</th>\n",
       "      <th>num_relations</th>\n",
       "    </tr>\n",
       "  </thead>\n",
       "  <tbody>\n",
       "    <tr>\n",
       "      <th>0</th>\n",
       "      <td>training</td>\n",
       "      <td>139432</td>\n",
       "      <td>66995</td>\n",
       "      <td>12</td>\n",
       "    </tr>\n",
       "    <tr>\n",
       "      <th>1</th>\n",
       "      <td>testing</td>\n",
       "      <td>7339</td>\n",
       "      <td>10358</td>\n",
       "      <td>9</td>\n",
       "    </tr>\n",
       "  </tbody>\n",
       "</table>\n",
       "</div>"
      ],
      "text/plain": [
       "     subset  num_triples  num_entities  num_relations\n",
       "0  training       139432         66995             12\n",
       "1   testing         7339         10358              9"
      ]
     },
     "execution_count": 18,
     "metadata": {},
     "output_type": "execute_result"
    }
   ],
   "source": [
    "data = []\n",
    "for subset_name in [\"training\", \"testing\"]:\n",
    "    subset_metrics = {\"subset\": subset_name}\n",
    "    subset = dataset.__getattribute__(subset_name)\n",
    "    triples = subset.triples\n",
    "    subset_metrics[\"num_triples\"] = len(triples)\n",
    "    subset_metrics[\"num_entities\"] = len(np.unique(triples[:, [0, 2]]))\n",
    "    subset_metrics[\"num_relations\"] = len(np.unique(triples[:, 1]))\n",
    "    data.append(subset_metrics)\n",
    "\n",
    "pd.DataFrame(data)"
   ]
  },
  {
   "cell_type": "code",
   "execution_count": 19,
   "id": "ff788fca-9b36-4e75-b283-3f9d0201f4b5",
   "metadata": {},
   "outputs": [
    {
     "data": {
      "text/html": [
       "<div>\n",
       "<style scoped>\n",
       "    .dataframe tbody tr th:only-of-type {\n",
       "        vertical-align: middle;\n",
       "    }\n",
       "\n",
       "    .dataframe tbody tr th {\n",
       "        vertical-align: top;\n",
       "    }\n",
       "\n",
       "    .dataframe thead th {\n",
       "        text-align: right;\n",
       "    }\n",
       "</style>\n",
       "<table border=\"1\" class=\"dataframe\">\n",
       "  <thead>\n",
       "    <tr style=\"text-align: right;\">\n",
       "      <th></th>\n",
       "      <th>training</th>\n",
       "    </tr>\n",
       "  </thead>\n",
       "  <tbody>\n",
       "    <tr>\n",
       "      <th>average_clustering</th>\n",
       "      <td>0.00707</td>\n",
       "    </tr>\n",
       "    <tr>\n",
       "      <th>density</th>\n",
       "      <td>0.00003</td>\n",
       "    </tr>\n",
       "    <tr>\n",
       "      <th>mean_size_of_connected_components</th>\n",
       "      <td>24.95158</td>\n",
       "    </tr>\n",
       "    <tr>\n",
       "      <th>median_size_of_connected_components</th>\n",
       "      <td>2.00000</td>\n",
       "    </tr>\n",
       "    <tr>\n",
       "      <th>n_connected_components</th>\n",
       "      <td>2685.00000</td>\n",
       "    </tr>\n",
       "    <tr>\n",
       "      <th>number_of_selfloops</th>\n",
       "      <td>0.00000</td>\n",
       "    </tr>\n",
       "  </tbody>\n",
       "</table>\n",
       "</div>"
      ],
      "text/plain": [
       "                                      training\n",
       "average_clustering                     0.00707\n",
       "density                                0.00003\n",
       "mean_size_of_connected_components     24.95158\n",
       "median_size_of_connected_components    2.00000\n",
       "n_connected_components              2685.00000\n",
       "number_of_selfloops                    0.00000"
      ]
     },
     "execution_count": 19,
     "metadata": {},
     "output_type": "execute_result"
    }
   ],
   "source": [
    "metrics = {}\n",
    "metrics[\"n_connected_components\"] = nx.number_connected_components(g.to_undirected())\n",
    "metrics[\"mean_size_of_connected_components\"] = mean(\n",
    "    len(c) for c in nx.connected_components(g.to_undirected())\n",
    ")\n",
    "metrics[\"median_size_of_connected_components\"] = median(\n",
    "    len(c) for c in nx.connected_components(g.to_undirected())\n",
    ")\n",
    "metrics[\"density\"] = nx.density(g)\n",
    "metrics[\"number_of_selfloops\"] = nx.number_of_selfloops(g)\n",
    "metrics[\"average_clustering\"] = nx.average_clustering(g)\n",
    "pd.DataFrame({\"training\": metrics})"
   ]
  },
  {
   "cell_type": "code",
   "execution_count": null,
   "id": "05759824-c591-405d-9606-d15e8200f677",
   "metadata": {},
   "outputs": [],
   "source": [
    "degree_sequence = sorted(g.degree(), key=lambda x: x[1], reverse=True)[:20]\n",
    "\n",
    "x, y = zip(*degree_sequence)\n",
    "fig, axes = plt.subplots(1, 2, figsize=(15, 5))\n",
    "axes[0].set_title(\"Degree of nodes\")\n",
    "axes[0].barh(y=x, width=y)\n",
    "axes[1].set_title(\"Degree Histogram\")\n",
    "sns.histplot([d for n, d in g.degree()], ax=axes[1], log_scale=True)\n",
    "plt.tight_layout()"
   ]
  },
  {
   "cell_type": "markdown",
   "id": "37843205-f5cf-4a77-8f5c-87e0d65cc5b4",
   "metadata": {},
   "source": [
    "## Training "
   ]
  },
  {
   "cell_type": "code",
   "execution_count": 21,
   "id": "d50930b0-cf8d-48b0-90cd-807b24ac304c",
   "metadata": {},
   "outputs": [],
   "source": []
  },
  {
   "cell_type": "code",
   "execution_count": null,
   "id": "50f0ec1d-0f32-42b9-a08e-ce18b8292e19",
   "metadata": {},
   "outputs": [
    {
     "data": {
      "application/vnd.jupyter.widget-view+json": {
       "model_id": "fa8e6abd2b464472a2f0e90dffa96b26",
       "version_major": 2,
       "version_minor": 0
      },
      "text/plain": [
       "Training epochs on cpu:   0%|          | 0/25 [00:00<?, ?epoch/s]"
      ]
     },
     "metadata": {},
     "output_type": "display_data"
    }
   ],
   "source": [
    "result = pipeline(\n",
    "    dataset=dataset,\n",
    "    model=\"TransE\",\n",
    "    model_kwargs={\"embedding_dim\": 32},\n",
    "    loss=\"nssa\",\n",
    "    loss_kwargs={\"adversarial_temperature\": 0.34, \"margin\": 9},\n",
    "    optimizer=\"Adam\",\n",
    "    optimizer_kwargs={\"lr\": 0.004},\n",
    "    negative_sampler_kwargs={\"num_negs_per_pos\": 33},\n",
    "    training_kwargs=dict(\n",
    "        num_epochs=25,\n",
    "        batch_size=512,\n",
    "        use_tqdm_batch=False,\n",
    "    ),\n",
    "    random_seed=123,\n",
    ")"
   ]
  },
  {
   "cell_type": "code",
   "execution_count": null,
   "id": "d2efe8c1-2af2-423b-aa85-77c9bcd5286b",
   "metadata": {},
   "outputs": [],
   "source": [
    "save_location = Path(\"results/plwordnet\")\n",
    "save_location.mkdir(exist_ok=True, parents=True)\n",
    "result.save_to_directory(save_location)\n",
    "print(f\"Saved: {os.listdir(save_location)}\")"
   ]
  },
  {
   "cell_type": "markdown",
   "id": "e704a3fe-e988-43ff-8215-4335af746af1",
   "metadata": {},
   "source": [
    "## Metrics"
   ]
  },
  {
   "cell_type": "code",
   "execution_count": null,
   "id": "e0d874e8-4be3-47d6-87d1-4f5282c1cee5",
   "metadata": {},
   "outputs": [],
   "source": [
    "result.plot_losses()\n",
    "plt.show()"
   ]
  },
  {
   "cell_type": "code",
   "execution_count": null,
   "id": "399f7334-cdfc-4739-97a3-b43128198f07",
   "metadata": {},
   "outputs": [],
   "source": [
    "metrics = result.metric_results.to_df()"
   ]
  },
  {
   "cell_type": "code",
   "execution_count": null,
   "id": "a39c5792-ec32-470d-aec0-d65558a5071f",
   "metadata": {},
   "outputs": [],
   "source": [
    "metrics[(metrics.Side == \"both\") & (metrics.Type == \"realistic\")]"
   ]
  },
  {
   "cell_type": "markdown",
   "id": "99dd0181-717b-446e-b486-69aaa622dc0b",
   "metadata": {},
   "source": [
    "## Embeddings visualization"
   ]
  },
  {
   "cell_type": "code",
   "execution_count": null,
   "id": "cbe46181-124b-45fe-b144-51c2d51af94a",
   "metadata": {},
   "outputs": [],
   "source": [
    "model = result.model\n",
    "model"
   ]
  },
  {
   "cell_type": "code",
   "execution_count": null,
   "id": "1a8263fa-0045-49a0-a141-410b9928adc1",
   "metadata": {},
   "outputs": [],
   "source": [
    "embeddings = result.model.entity_representations[0](torch.arange(dataset.num_entities))\n",
    "labels = np.array(\n",
    "    [dataset.training.entity_id_to_label[i] for i in range(dataset.num_entities)]\n",
    ")"
   ]
  },
  {
   "cell_type": "code",
   "execution_count": null,
   "id": "19c6dcac-7b1e-4837-8938-5b65a2c6397e",
   "metadata": {},
   "outputs": [],
   "source": [
    "sampled_embeddings_idx = random.sample(list(range(len(embeddings))), 5000)"
   ]
  },
  {
   "cell_type": "code",
   "execution_count": null,
   "id": "798d4e76-08d1-4c96-9d13-2b39bdc03448",
   "metadata": {},
   "outputs": [],
   "source": [
    "prepare_for_visualization(\n",
    "    embeddings.detach().numpy()[sampled_embeddings_idx],\n",
    "    labels[sampled_embeddings_idx],\n",
    "    Path(\"logs/plwordnet\"),\n",
    ")"
   ]
  },
  {
   "cell_type": "code",
   "execution_count": null,
   "id": "a2a7ea8c-f74d-456a-ba29-69a0e0e11b42",
   "metadata": {},
   "outputs": [],
   "source": [
    "!tensorboard --logdir=logs/plwordnet"
   ]
  }
 ],
 "metadata": {
  "kernelspec": {
   "display_name": "Python 3 (ipykernel)",
   "language": "python",
   "name": "python3"
  },
  "language_info": {
   "codemirror_mode": {
    "name": "ipython",
    "version": 3
   },
   "file_extension": ".py",
   "mimetype": "text/x-python",
   "name": "python",
   "nbconvert_exporter": "python",
   "pygments_lexer": "ipython3",
   "version": "3.11.3"
  }
 },
 "nbformat": 4,
 "nbformat_minor": 5
}
