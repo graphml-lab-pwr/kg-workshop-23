{
 "cells": [
  {
   "cell_type": "code",
   "execution_count": 1,
   "id": "fae253a7-8b9e-415d-88e5-7e2726f3ab33",
   "metadata": {},
   "outputs": [],
   "source": [
    "%load_ext autoreload\n",
    "%autoreload 2"
   ]
  },
  {
   "cell_type": "code",
   "execution_count": 2,
   "id": "70df50f6-ddfb-4c7c-8681-0528910dec97",
   "metadata": {},
   "outputs": [],
   "source": [
    "import os\n",
    "\n",
    "os.environ[\"TF_CPP_MIN_LOG_LEVEL\"] = \"3\""
   ]
  },
  {
   "cell_type": "code",
   "execution_count": 3,
   "id": "e63d87bc-a747-4d68-9316-4bb4e8b60d58",
   "metadata": {},
   "outputs": [],
   "source": [
    "import logging\n",
    "import matplotlib.pyplot as plt\n",
    "import torch\n",
    "from pykeen.datasets import PathDataset\n",
    "from pykeen.pipeline import pipeline\n",
    "from statistics import mean, median\n",
    "import pandas as pd\n",
    "import numpy as np\n",
    "import seaborn as sns\n",
    "import networkx as nx\n",
    "from pyvis.network import Network\n",
    "from ipywidgets import interact\n",
    "import ipywidgets as widgets\n",
    "from itertools import chain\n",
    "from pathlib import Path\n",
    "from rich import print\n",
    "\n",
    "from utils import prepare_for_visualization"
   ]
  },
  {
   "cell_type": "markdown",
   "id": "1aa368bd-734a-47e6-8054-857ba0014b77",
   "metadata": {},
   "source": [
    "## Settings"
   ]
  },
  {
   "cell_type": "code",
   "execution_count": 4,
   "id": "468a82cf-239e-4449-a4f9-d570a5c6f558",
   "metadata": {},
   "outputs": [],
   "source": [
    "import warnings\n",
    "\n",
    "warnings.filterwarnings(\"ignore\")\n",
    "warnings.simplefilter(\"ignore\")\n",
    "\n",
    "pd.set_option(\"display.float_format\", lambda x: \"%.5f\" % x)\n",
    "logging.getLogger(\"pykeen\").setLevel(logging.CRITICAL)"
   ]
  },
  {
   "cell_type": "markdown",
   "id": "e6f23caa-6d2c-41e6-bddf-9fe17b11ce10",
   "metadata": {},
   "source": [
    "## Loading data"
   ]
  },
  {
   "cell_type": "code",
   "execution_count": 5,
   "id": "144ef28a-1bf6-49b6-a5f8-b4cdfd6f4d76",
   "metadata": {},
   "outputs": [],
   "source": [
    "DATASET_PATH = Path(\"data/FB15k237\")"
   ]
  },
  {
   "cell_type": "code",
   "execution_count": 6,
   "id": "04828c90-6529-451c-8f21-1dd479b8fed9",
   "metadata": {},
   "outputs": [],
   "source": [
    "dataset = PathDataset(\n",
    "    DATASET_PATH / \"train.tsv\",\n",
    "    DATASET_PATH / \"test.tsv\",\n",
    "    DATASET_PATH / \"valid.tsv\",\n",
    ")\n",
    "\n",
    "g = nx.DiGraph()\n",
    "g.add_edges_from([(h, t, {\"title\": r}) for h, r, t in dataset.training.triples])"
   ]
  },
  {
   "cell_type": "markdown",
   "id": "ec70b691-b1c8-408a-a047-107f338a307c",
   "metadata": {},
   "source": [
    "## Visualization"
   ]
  },
  {
   "cell_type": "code",
   "execution_count": 7,
   "id": "c459b71d-9721-4fdc-8810-f8db3b5aaf37",
   "metadata": {},
   "outputs": [
    {
     "data": {
      "application/vnd.jupyter.widget-view+json": {
       "model_id": "0307cfc3043340aeb3710397fa75329e",
       "version_major": 2,
       "version_minor": 0
      },
      "text/plain": [
       "interactive(children=(SelectMultiple(description='nodes', index=(0,), options=(\"'N Sync\", 'Grammy Award for Be…"
      ]
     },
     "metadata": {},
     "output_type": "display_data"
    }
   ],
   "source": [
    "_list_nodes = list(g.nodes)\n",
    "\n",
    "\n",
    "@interact\n",
    "def visualize(\n",
    "    nodes=widgets.SelectMultiple(\n",
    "        options=list(g.nodes), rows=10, value=[_list_nodes[0]]\n",
    "    ),\n",
    "    k=[0, 1, 2, 3],\n",
    "    toggle_physics=False,\n",
    "):\n",
    "    filtered = set(\n",
    "        chain(\n",
    "            *[\n",
    "                list(nx.single_source_shortest_path_length(g, n, cutoff=k))\n",
    "                for n in nodes\n",
    "            ]\n",
    "        )\n",
    "    )\n",
    "    # print(filtered)\n",
    "    subgraph = nx.subgraph_view(g, filter_node=lambda x: x in filtered)\n",
    "    nt = Network(\n",
    "        \"500px\", \"500px\", directed=True, notebook=True, cdn_resources=\"in_line\"\n",
    "    )\n",
    "    nt.inherit_edge_colors(False)\n",
    "    nt.from_nx(subgraph)\n",
    "    nt.toggle_physics(toggle_physics)\n",
    "    display(nt.show(\"basic.html\"))"
   ]
  },
  {
   "cell_type": "markdown",
   "id": "b39acfed-f523-48ff-9bb1-4440dcde625a",
   "metadata": {},
   "source": [
    "## EDA"
   ]
  },
  {
   "cell_type": "code",
   "execution_count": 8,
   "id": "cee4242d-be56-4e11-89b3-1e155ed5da52",
   "metadata": {},
   "outputs": [
    {
     "data": {
      "text/html": [
       "<div>\n",
       "<style scoped>\n",
       "    .dataframe tbody tr th:only-of-type {\n",
       "        vertical-align: middle;\n",
       "    }\n",
       "\n",
       "    .dataframe tbody tr th {\n",
       "        vertical-align: top;\n",
       "    }\n",
       "\n",
       "    .dataframe thead th {\n",
       "        text-align: right;\n",
       "    }\n",
       "</style>\n",
       "<table border=\"1\" class=\"dataframe\">\n",
       "  <thead>\n",
       "    <tr style=\"text-align: right;\">\n",
       "      <th></th>\n",
       "      <th>subset</th>\n",
       "      <th>num_triples</th>\n",
       "      <th>num_entities</th>\n",
       "      <th>num_relations</th>\n",
       "    </tr>\n",
       "  </thead>\n",
       "  <tbody>\n",
       "    <tr>\n",
       "      <th>0</th>\n",
       "      <td>training</td>\n",
       "      <td>271524</td>\n",
       "      <td>14233</td>\n",
       "      <td>237</td>\n",
       "    </tr>\n",
       "    <tr>\n",
       "      <th>1</th>\n",
       "      <td>validation</td>\n",
       "      <td>17519</td>\n",
       "      <td>9705</td>\n",
       "      <td>223</td>\n",
       "    </tr>\n",
       "    <tr>\n",
       "      <th>2</th>\n",
       "      <td>testing</td>\n",
       "      <td>20432</td>\n",
       "      <td>10212</td>\n",
       "      <td>224</td>\n",
       "    </tr>\n",
       "  </tbody>\n",
       "</table>\n",
       "</div>"
      ],
      "text/plain": [
       "       subset  num_triples  num_entities  num_relations\n",
       "0    training       271524         14233            237\n",
       "1  validation        17519          9705            223\n",
       "2     testing        20432         10212            224"
      ]
     },
     "execution_count": 8,
     "metadata": {},
     "output_type": "execute_result"
    }
   ],
   "source": [
    "data = []\n",
    "for subset_name in [\"training\", \"validation\", \"testing\"]:\n",
    "    subset_metrics = {\"subset\": subset_name}\n",
    "    subset = dataset.__getattribute__(subset_name)\n",
    "    triples = subset.triples\n",
    "    subset_metrics[\"num_triples\"] = len(triples)\n",
    "    subset_metrics[\"num_entities\"] = len(np.unique(triples[:, [0, 2]]))\n",
    "    subset_metrics[\"num_relations\"] = len(np.unique(triples[:, 1]))\n",
    "    data.append(subset_metrics)\n",
    "\n",
    "pd.DataFrame(data)"
   ]
  },
  {
   "cell_type": "code",
   "execution_count": 9,
   "id": "ff788fca-9b36-4e75-b283-3f9d0201f4b5",
   "metadata": {},
   "outputs": [
    {
     "data": {
      "text/html": [
       "<div>\n",
       "<style scoped>\n",
       "    .dataframe tbody tr th:only-of-type {\n",
       "        vertical-align: middle;\n",
       "    }\n",
       "\n",
       "    .dataframe tbody tr th {\n",
       "        vertical-align: top;\n",
       "    }\n",
       "\n",
       "    .dataframe thead th {\n",
       "        text-align: right;\n",
       "    }\n",
       "</style>\n",
       "<table border=\"1\" class=\"dataframe\">\n",
       "  <thead>\n",
       "    <tr style=\"text-align: right;\">\n",
       "      <th></th>\n",
       "      <th>training</th>\n",
       "    </tr>\n",
       "  </thead>\n",
       "  <tbody>\n",
       "    <tr>\n",
       "      <th>average_clustering</th>\n",
       "      <td>0.14845</td>\n",
       "    </tr>\n",
       "    <tr>\n",
       "      <th>density</th>\n",
       "      <td>0.00121</td>\n",
       "    </tr>\n",
       "    <tr>\n",
       "      <th>mean_size_of_connected_components</th>\n",
       "      <td>2846.60000</td>\n",
       "    </tr>\n",
       "    <tr>\n",
       "      <th>median_size_of_connected_components</th>\n",
       "      <td>2.00000</td>\n",
       "    </tr>\n",
       "    <tr>\n",
       "      <th>n_connected_components</th>\n",
       "      <td>5.00000</td>\n",
       "    </tr>\n",
       "    <tr>\n",
       "      <th>number_of_selfloops</th>\n",
       "      <td>1158.00000</td>\n",
       "    </tr>\n",
       "  </tbody>\n",
       "</table>\n",
       "</div>"
      ],
      "text/plain": [
       "                                      training\n",
       "average_clustering                     0.14845\n",
       "density                                0.00121\n",
       "mean_size_of_connected_components   2846.60000\n",
       "median_size_of_connected_components    2.00000\n",
       "n_connected_components                 5.00000\n",
       "number_of_selfloops                 1158.00000"
      ]
     },
     "execution_count": 9,
     "metadata": {},
     "output_type": "execute_result"
    }
   ],
   "source": [
    "metrics = {}\n",
    "metrics[\"n_connected_components\"] = nx.number_connected_components(g.to_undirected())\n",
    "metrics[\"mean_size_of_connected_components\"] = mean(\n",
    "    len(c) for c in nx.connected_components(g.to_undirected())\n",
    ")\n",
    "metrics[\"median_size_of_connected_components\"] = median(\n",
    "    len(c) for c in nx.connected_components(g.to_undirected())\n",
    ")\n",
    "metrics[\"density\"] = nx.density(g)\n",
    "metrics[\"number_of_selfloops\"] = nx.number_of_selfloops(g)\n",
    "metrics[\"average_clustering\"] = nx.average_clustering(g)\n",
    "pd.DataFrame({\"training\": metrics})"
   ]
  },
  {
   "cell_type": "code",
   "execution_count": 10,
   "id": "05759824-c591-405d-9606-d15e8200f677",
   "metadata": {},
   "outputs": [
    {
     "data": {
      "image/png": "[encoded data removed]",
      "text/plain": [
       "<Figure size 1000x500 with 2 Axes>"
      ]
     },
     "metadata": {},
     "output_type": "display_data"
    }
   ],
   "source": [
    "degree_sequence = sorted(g.degree(), key=lambda x: x[1], reverse=True)[:20]\n",
    "\n",
    "x, y = zip(*degree_sequence)\n",
    "fig, axes = plt.subplots(1, 2, figsize=(10, 5))\n",
    "axes[0].set_title(\"Degree of nodes\")\n",
    "axes[0].barh(y=x, width=y)\n",
    "axes[1].set_title(\"Degree Histogram\")\n",
    "sns.histplot([d for n, d in g.degree()], ax=axes[1], log_scale=True)\n",
    "plt.tight_layout()"
   ]
  },
  {
   "cell_type": "markdown",
   "id": "37843205-f5cf-4a77-8f5c-87e0d65cc5b4",
   "metadata": {},
   "source": [
    "## Training "
   ]
  },
  {
   "cell_type": "code",
   "execution_count": 11,
   "id": "50f0ec1d-0f32-42b9-a08e-ce18b8292e19",
   "metadata": {},
   "outputs": [
    {
     "data": {
      "application/vnd.jupyter.widget-view+json": {
       "model_id": "3c61c56d7d674f1d99bec36a135dbd2f",
       "version_major": 2,
       "version_minor": 0
      },
      "text/plain": [
       "Training epochs on cpu:   0%|          | 0/20 [00:00<?, ?epoch/s]"
      ]
     },
     "metadata": {},
     "output_type": "display_data"
    },
    {
     "data": {
      "application/vnd.jupyter.widget-view+json": {
       "model_id": "4a2c4110aa844ed4b0d1bbe28fcdd3d2",
       "version_major": 2,
       "version_minor": 0
      },
      "text/plain": [
       "Evaluating on cpu:   0%|          | 0.00/20.4k [00:00<?, ?triple/s]"
      ]
     },
     "metadata": {},
     "output_type": "display_data"
    }
   ],
   "source": [
    "result = pipeline(\n",
    "    dataset=dataset,\n",
    "    model=\"TransE\",\n",
    "    model_kwargs={\"embedding_dim\": 32},\n",
    "    loss=\"nssa\",\n",
    "    loss_kwargs={\"adversarial_temperature\": 0.34, \"margin\": 9},\n",
    "    optimizer=\"Adam\",\n",
    "    optimizer_kwargs={\"lr\": 0.004},\n",
    "    negative_sampler_kwargs={\"num_negs_per_pos\": 33},\n",
    "    training_kwargs=dict(\n",
    "        num_epochs=20,\n",
    "        batch_size=512,\n",
    "        use_tqdm_batch=False,\n",
    "    ),\n",
    "    random_seed=123,\n",
    ")"
   ]
  },
  {
   "cell_type": "code",
   "execution_count": 12,
   "id": "d2efe8c1-2af2-423b-aa85-77c9bcd5286b",
   "metadata": {},
   "outputs": [
    {
     "data": {
      "text/html": [
       "<pre style=\"white-space:pre;overflow-x:auto;line-height:normal;font-family:Menlo,'DejaVu Sans Mono',consolas,'Courier New',monospace\">Saved: <span style=\"font-weight: bold\">[</span><span style=\"color: #008000; text-decoration-color: #008000\">'trained_model.pkl'</span>, <span style=\"color: #008000; text-decoration-color: #008000\">'results.json'</span>, <span style=\"color: #008000; text-decoration-color: #008000\">'training_triples'</span>, <span style=\"color: #008000; text-decoration-color: #008000\">'metadata.json'</span><span style=\"font-weight: bold\">]</span>\n",
       "</pre>\n"
      ],
      "text/plain": [
       "Saved: \u001B[1m[\u001B[0m\u001B[32m'trained_model.pkl'\u001B[0m, \u001B[32m'results.json'\u001B[0m, \u001B[32m'training_triples'\u001B[0m, \u001B[32m'metadata.json'\u001B[0m\u001B[1m]\u001B[0m\n"
      ]
     },
     "metadata": {},
     "output_type": "display_data"
    }
   ],
   "source": [
    "save_location = Path(\"results/FB15k237\")\n",
    "save_location.mkdir(exist_ok=True, parents=True)\n",
    "result.save_to_directory(save_location)\n",
    "print(f\"Saved: {os.listdir(save_location)}\")"
   ]
  },
  {
   "cell_type": "markdown",
   "id": "e704a3fe-e988-43ff-8215-4335af746af1",
   "metadata": {},
   "source": [
    "## Metrics"
   ]
  },
  {
   "cell_type": "code",
   "execution_count": 13,
   "id": "e0d874e8-4be3-47d6-87d1-4f5282c1cee5",
   "metadata": {},
   "outputs": [
    {
     "data": {
      "image/png": "[encoded data removed]",
      "text/plain": [
       "<Figure size 640x480 with 1 Axes>"
      ]
     },
     "metadata": {},
     "output_type": "display_data"
    }
   ],
   "source": [
    "result.plot_losses()\n",
    "plt.show()"
   ]
  },
  {
   "cell_type": "code",
   "execution_count": 14,
   "id": "399f7334-cdfc-4739-97a3-b43128198f07",
   "metadata": {},
   "outputs": [],
   "source": [
    "metrics = result.metric_results.to_df()"
   ]
  },
  {
   "cell_type": "code",
   "execution_count": 15,
   "id": "a39c5792-ec32-470d-aec0-d65558a5071f",
   "metadata": {},
   "outputs": [
    {
     "data": {
      "text/html": [
       "<div>\n",
       "<style scoped>\n",
       "    .dataframe tbody tr th:only-of-type {\n",
       "        vertical-align: middle;\n",
       "    }\n",
       "\n",
       "    .dataframe tbody tr th {\n",
       "        vertical-align: top;\n",
       "    }\n",
       "\n",
       "    .dataframe thead th {\n",
       "        text-align: right;\n",
       "    }\n",
       "</style>\n",
       "<table border=\"1\" class=\"dataframe\">\n",
       "  <thead>\n",
       "    <tr style=\"text-align: right;\">\n",
       "      <th></th>\n",
       "      <th>Side</th>\n",
       "      <th>Type</th>\n",
       "      <th>Metric</th>\n",
       "      <th>Value</th>\n",
       "    </tr>\n",
       "  </thead>\n",
       "  <tbody>\n",
       "    <tr>\n",
       "      <th>5</th>\n",
       "      <td>both</td>\n",
       "      <td>realistic</td>\n",
       "      <td>geometric_mean_rank</td>\n",
       "      <td>29.41476</td>\n",
       "    </tr>\n",
       "    <tr>\n",
       "      <th>14</th>\n",
       "      <td>both</td>\n",
       "      <td>realistic</td>\n",
       "      <td>adjusted_arithmetic_mean_rank</td>\n",
       "      <td>0.03533</td>\n",
       "    </tr>\n",
       "    <tr>\n",
       "      <th>23</th>\n",
       "      <td>both</td>\n",
       "      <td>realistic</td>\n",
       "      <td>standard_deviation</td>\n",
       "      <td>651.45160</td>\n",
       "    </tr>\n",
       "    <tr>\n",
       "      <th>32</th>\n",
       "      <td>both</td>\n",
       "      <td>realistic</td>\n",
       "      <td>inverse_arithmetic_mean_rank</td>\n",
       "      <td>0.00404</td>\n",
       "    </tr>\n",
       "    <tr>\n",
       "      <th>41</th>\n",
       "      <td>both</td>\n",
       "      <td>realistic</td>\n",
       "      <td>inverse_median_rank</td>\n",
       "      <td>0.03571</td>\n",
       "    </tr>\n",
       "    <tr>\n",
       "      <th>50</th>\n",
       "      <td>both</td>\n",
       "      <td>realistic</td>\n",
       "      <td>inverse_harmonic_mean_rank</td>\n",
       "      <td>0.20696</td>\n",
       "    </tr>\n",
       "    <tr>\n",
       "      <th>59</th>\n",
       "      <td>both</td>\n",
       "      <td>realistic</td>\n",
       "      <td>z_arithmetic_mean_rank</td>\n",
       "      <td>337.36444</td>\n",
       "    </tr>\n",
       "    <tr>\n",
       "      <th>68</th>\n",
       "      <td>both</td>\n",
       "      <td>realistic</td>\n",
       "      <td>median_rank</td>\n",
       "      <td>28.00000</td>\n",
       "    </tr>\n",
       "    <tr>\n",
       "      <th>77</th>\n",
       "      <td>both</td>\n",
       "      <td>realistic</td>\n",
       "      <td>harmonic_mean_rank</td>\n",
       "      <td>4.83190</td>\n",
       "    </tr>\n",
       "    <tr>\n",
       "      <th>86</th>\n",
       "      <td>both</td>\n",
       "      <td>realistic</td>\n",
       "      <td>arithmetic_mean_rank</td>\n",
       "      <td>247.34822</td>\n",
       "    </tr>\n",
       "    <tr>\n",
       "      <th>95</th>\n",
       "      <td>both</td>\n",
       "      <td>realistic</td>\n",
       "      <td>z_geometric_mean_rank</td>\n",
       "      <td>201.38290</td>\n",
       "    </tr>\n",
       "    <tr>\n",
       "      <th>104</th>\n",
       "      <td>both</td>\n",
       "      <td>realistic</td>\n",
       "      <td>z_inverse_harmonic_mean_rank</td>\n",
       "      <td>3848.64801</td>\n",
       "    </tr>\n",
       "    <tr>\n",
       "      <th>113</th>\n",
       "      <td>both</td>\n",
       "      <td>realistic</td>\n",
       "      <td>count</td>\n",
       "      <td>40864.00000</td>\n",
       "    </tr>\n",
       "    <tr>\n",
       "      <th>122</th>\n",
       "      <td>both</td>\n",
       "      <td>realistic</td>\n",
       "      <td>adjusted_geometric_mean_rank_index</td>\n",
       "      <td>0.99448</td>\n",
       "    </tr>\n",
       "    <tr>\n",
       "      <th>131</th>\n",
       "      <td>both</td>\n",
       "      <td>realistic</td>\n",
       "      <td>adjusted_inverse_harmonic_mean_rank</td>\n",
       "      <td>0.20638</td>\n",
       "    </tr>\n",
       "    <tr>\n",
       "      <th>140</th>\n",
       "      <td>both</td>\n",
       "      <td>realistic</td>\n",
       "      <td>inverse_geometric_mean_rank</td>\n",
       "      <td>0.03400</td>\n",
       "    </tr>\n",
       "    <tr>\n",
       "      <th>149</th>\n",
       "      <td>both</td>\n",
       "      <td>realistic</td>\n",
       "      <td>median_absolute_deviation</td>\n",
       "      <td>40.03026</td>\n",
       "    </tr>\n",
       "    <tr>\n",
       "      <th>158</th>\n",
       "      <td>both</td>\n",
       "      <td>realistic</td>\n",
       "      <td>adjusted_arithmetic_mean_rank_index</td>\n",
       "      <td>0.96480</td>\n",
       "    </tr>\n",
       "    <tr>\n",
       "      <th>167</th>\n",
       "      <td>both</td>\n",
       "      <td>realistic</td>\n",
       "      <td>variance</td>\n",
       "      <td>424389.15625</td>\n",
       "    </tr>\n",
       "    <tr>\n",
       "      <th>176</th>\n",
       "      <td>both</td>\n",
       "      <td>realistic</td>\n",
       "      <td>hits_at_1</td>\n",
       "      <td>0.13109</td>\n",
       "    </tr>\n",
       "    <tr>\n",
       "      <th>185</th>\n",
       "      <td>both</td>\n",
       "      <td>realistic</td>\n",
       "      <td>hits_at_3</td>\n",
       "      <td>0.22249</td>\n",
       "    </tr>\n",
       "    <tr>\n",
       "      <th>194</th>\n",
       "      <td>both</td>\n",
       "      <td>realistic</td>\n",
       "      <td>hits_at_5</td>\n",
       "      <td>0.27511</td>\n",
       "    </tr>\n",
       "    <tr>\n",
       "      <th>203</th>\n",
       "      <td>both</td>\n",
       "      <td>realistic</td>\n",
       "      <td>hits_at_10</td>\n",
       "      <td>0.36051</td>\n",
       "    </tr>\n",
       "    <tr>\n",
       "      <th>212</th>\n",
       "      <td>both</td>\n",
       "      <td>realistic</td>\n",
       "      <td>z_hits_at_k</td>\n",
       "      <td>2718.03040</td>\n",
       "    </tr>\n",
       "    <tr>\n",
       "      <th>221</th>\n",
       "      <td>both</td>\n",
       "      <td>realistic</td>\n",
       "      <td>adjusted_hits_at_k</td>\n",
       "      <td>0.36005</td>\n",
       "    </tr>\n",
       "  </tbody>\n",
       "</table>\n",
       "</div>"
      ],
      "text/plain": [
       "     Side       Type                               Metric        Value\n",
       "5    both  realistic                  geometric_mean_rank     29.41476\n",
       "14   both  realistic        adjusted_arithmetic_mean_rank      0.03533\n",
       "23   both  realistic                   standard_deviation    651.45160\n",
       "32   both  realistic         inverse_arithmetic_mean_rank      0.00404\n",
       "41   both  realistic                  inverse_median_rank      0.03571\n",
       "50   both  realistic           inverse_harmonic_mean_rank      0.20696\n",
       "59   both  realistic               z_arithmetic_mean_rank    337.36444\n",
       "68   both  realistic                          median_rank     28.00000\n",
       "77   both  realistic                   harmonic_mean_rank      4.83190\n",
       "86   both  realistic                 arithmetic_mean_rank    247.34822\n",
       "95   both  realistic                z_geometric_mean_rank    201.38290\n",
       "104  both  realistic         z_inverse_harmonic_mean_rank   3848.64801\n",
       "113  both  realistic                                count  40864.00000\n",
       "122  both  realistic   adjusted_geometric_mean_rank_index      0.99448\n",
       "131  both  realistic  adjusted_inverse_harmonic_mean_rank      0.20638\n",
       "140  both  realistic          inverse_geometric_mean_rank      0.03400\n",
       "149  both  realistic            median_absolute_deviation     40.03026\n",
       "158  both  realistic  adjusted_arithmetic_mean_rank_index      0.96480\n",
       "167  both  realistic                             variance 424389.15625\n",
       "176  both  realistic                            hits_at_1      0.13109\n",
       "185  both  realistic                            hits_at_3      0.22249\n",
       "194  both  realistic                            hits_at_5      0.27511\n",
       "203  both  realistic                           hits_at_10      0.36051\n",
       "212  both  realistic                          z_hits_at_k   2718.03040\n",
       "221  both  realistic                   adjusted_hits_at_k      0.36005"
      ]
     },
     "execution_count": 15,
     "metadata": {},
     "output_type": "execute_result"
    }
   ],
   "source": [
    "metrics[(metrics.Side == \"both\") & (metrics.Type == \"realistic\")]"
   ]
  },
  {
   "cell_type": "markdown",
   "id": "99dd0181-717b-446e-b486-69aaa622dc0b",
   "metadata": {},
   "source": [
    "## Embeddings visualization"
   ]
  },
  {
   "cell_type": "code",
   "execution_count": 16,
   "id": "cbe46181-124b-45fe-b144-51c2d51af94a",
   "metadata": {},
   "outputs": [
    {
     "data": {
      "text/plain": [
       "TransE(\n",
       "  (loss): NSSALoss()\n",
       "  (interaction): TransEInteraction()\n",
       "  (entity_representations): ModuleList(\n",
       "    (0): Embedding(\n",
       "      (_embeddings): Embedding(14233, 32)\n",
       "    )\n",
       "  )\n",
       "  (relation_representations): ModuleList(\n",
       "    (0): Embedding(\n",
       "      (_embeddings): Embedding(237, 32)\n",
       "    )\n",
       "  )\n",
       "  (weight_regularizers): ModuleList()\n",
       ")"
      ]
     },
     "execution_count": 16,
     "metadata": {},
     "output_type": "execute_result"
    }
   ],
   "source": [
    "model = result.model\n",
    "model"
   ]
  },
  {
   "cell_type": "code",
   "execution_count": 17,
   "id": "1a8263fa-0045-49a0-a141-410b9928adc1",
   "metadata": {},
   "outputs": [],
   "source": [
    "embeddings = result.model.entity_representations[0](torch.arange(dataset.num_entities))\n",
    "labels = [dataset.training.entity_id_to_label[i] for i in range(dataset.num_entities)]"
   ]
  },
  {
   "cell_type": "code",
   "execution_count": 18,
   "id": "798d4e76-08d1-4c96-9d13-2b39bdc03448",
   "metadata": {},
   "outputs": [],
   "source": [
    "prepare_for_visualization(embeddings.detach().numpy(), labels, Path(\"logs/FB15k237\"))"
   ]
  },
  {
   "cell_type": "code",
   "execution_count": 19,
   "id": "4723aba1-2c27-4801-adaa-fcb3eb79b04b",
   "metadata": {},
   "outputs": [
    {
     "name": "stdout",
     "output_type": "stream",
     "text": [
      "\n",
      "NOTE: Using experimental fast data loading logic. To disable, pass\n",
      "    \"--load_fast=false\" and report issues on GitHub. More details:\n",
      "    https://github.com/tensorflow/tensorboard/issues/4784\n",
      "\n",
      "Serving TensorBoard on localhost; to expose to the network, use a proxy or pass --bind_all\n",
      "TensorBoard 2.12.0 at http://localhost:6006/ (Press CTRL+C to quit)\n",
      "^C\n"
     ]
    }
   ],
   "source": [
    "!tensorboard --logdir=logs/FB15k237"
   ]
  },
  {
   "cell_type": "markdown",
   "id": "d330e711-099b-4c8b-b024-580519caa754",
   "metadata": {},
   "source": [
    "## Ćwiczenie"
   ]
  },
  {
   "cell_type": "markdown",
   "id": "3f92b8c1-2ea4-4171-837b-b36cf5a18265",
   "metadata": {},
   "source": [
    "Napisz funckję predykcji dla modelu TransE bez korzystania z pyKEEN. Ma ona drukować 10 najbliższych sąsiadów pasujących do zapytania (h, r, ?). \n",
    "Zastosuj poniższy wzór do liczenia dystansu miedzy wektorami. Gdzie $sum$ to funkcja sumująca wszytskie elementy.\n",
    "$$d = sum((a - b)^2)$$\n",
    "\n",
    "Podpowiedzi:\n",
    "1. Wektory encji znajdują się pod `result.model.entity_representations`.\n",
    "2. Wektory relacji znajdują się pod `result.model.relation_representations`.\n",
    "3. Niezbędne słowniki pod: `dataset.training.relation_to_id`, `dataset.training.entity_to_id`, `dataset.training.entity_id_to_label`.\n",
    "4. TransE opiera się na założeniu: $$h+r=t$$"
   ]
  },
  {
   "cell_type": "code",
   "execution_count": 25,
   "id": "d092eb61-770f-4bf5-a78a-003bfced65de",
   "metadata": {},
   "outputs": [
    {
     "data": {
      "application/vnd.jupyter.widget-view+json": {
       "model_id": "7cc53a03af1243f2b96cbb89a1dd9b4f",
       "version_major": 2,
       "version_minor": 0
      },
      "text/plain": [
       "interactive(children=(Dropdown(description='head', options=(\"'N Sync\", '(+/-)-pantothenic acid', '(500) Days o…"
      ]
     },
     "metadata": {},
     "output_type": "display_data"
    }
   ],
   "source": [
    "result.model.eval()\n",
    "\n",
    "\n",
    "@interact\n",
    "def predict(\n",
    "    head=list(sorted(dataset.training.entity_id_to_label.values())),\n",
    "    relation=list(sorted(dataset.training.relation_id_to_label.values())),\n",
    "):\n",
    "    print(f\"{head}, {relation}, ?\")\n",
    "\n",
    "    e_id = dataset.training.entity_to_id[head]\n",
    "    rel_id = dataset.training.relation_to_id[relation]\n",
    "\n",
    "    emb_ent = embeddings[e_id]\n",
    "    emb_rel = result.model.relation_representations[0](torch.tensor([rel_id]))\n",
    "    print((emb_ent + emb_rel - embeddings).shape)\n",
    "    dist = ((emb_ent + emb_rel - embeddings) ** 2).sum(dim=-1)\n",
    "\n",
    "    _, idx = torch.topk(dist, 10, largest=False)\n",
    "    for num, i in enumerate(idx):\n",
    "        print(f\"{num}. {dataset.training.entity_id_to_label[i.item()]}\")"
   ]
  }
 ],
 "metadata": {
  "kernelspec": {
   "display_name": "Python 3 (ipykernel)",
   "language": "python",
   "name": "python3"
  },
  "language_info": {
   "codemirror_mode": {
    "name": "ipython",
    "version": 3
   },
   "file_extension": ".py",
   "mimetype": "text/x-python",
   "name": "python",
   "nbconvert_exporter": "python",
   "pygments_lexer": "ipython3",
   "version": "3.11.3"
  }
 },
 "nbformat": 4,
 "nbformat_minor": 5
}
