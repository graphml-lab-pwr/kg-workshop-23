{
 "cells": [
  {
   "cell_type": "code",
   "execution_count": null,
   "id": "fae253a7-8b9e-415d-88e5-7e2726f3ab33",
   "metadata": {},
   "outputs": [],
   "source": [
    "%load_ext autoreload\n",
    "%autoreload 2"
   ]
  },
  {
   "cell_type": "code",
   "execution_count": null,
   "id": "70df50f6-ddfb-4c7c-8681-0528910dec97",
   "metadata": {},
   "outputs": [],
   "source": [
    "import os\n",
    "\n",
    "os.environ[\"TF_CPP_MIN_LOG_LEVEL\"] = \"3\""
   ]
  },
  {
   "cell_type": "code",
   "execution_count": null,
   "id": "e63d87bc-a747-4d68-9316-4bb4e8b60d58",
   "metadata": {},
   "outputs": [],
   "source": [
    "import logging\n",
    "import matplotlib.pyplot as plt\n",
    "import torch\n",
    "from pykeen.datasets import PathDataset\n",
    "from pykeen.pipeline import pipeline\n",
    "from statistics import mean, median\n",
    "import pandas as pd\n",
    "import numpy as np\n",
    "import seaborn as sns\n",
    "import networkx as nx\n",
    "from pyvis.network import Network\n",
    "from ipywidgets import interact\n",
    "import ipywidgets as widgets\n",
    "from itertools import chain\n",
    "from pathlib import Path\n",
    "from rich import print\n",
    "\n",
    "from utils import prepare_for_visualization"
   ]
  },
  {
   "cell_type": "markdown",
   "id": "1aa368bd-734a-47e6-8054-857ba0014b77",
   "metadata": {},
   "source": [
    "## Settings"
   ]
  },
  {
   "cell_type": "code",
   "execution_count": null,
   "id": "468a82cf-239e-4449-a4f9-d570a5c6f558",
   "metadata": {},
   "outputs": [],
   "source": [
    "import warnings\n",
    "\n",
    "warnings.filterwarnings(\"ignore\")\n",
    "warnings.simplefilter(\"ignore\")\n",
    "\n",
    "pd.set_option(\"display.float_format\", lambda x: \"%.5f\" % x)\n",
    "logging.getLogger(\"pykeen\").setLevel(logging.CRITICAL)"
   ]
  },
  {
   "cell_type": "markdown",
   "id": "e6f23caa-6d2c-41e6-bddf-9fe17b11ce10",
   "metadata": {},
   "source": [
    "## Loading data"
   ]
  },
  {
   "cell_type": "code",
   "execution_count": null,
   "id": "144ef28a-1bf6-49b6-a5f8-b4cdfd6f4d76",
   "metadata": {},
   "outputs": [],
   "source": [
    "DATASET_PATH = Path(\"data/FB15k237\")"
   ]
  },
  {
   "cell_type": "code",
   "execution_count": null,
   "id": "04828c90-6529-451c-8f21-1dd479b8fed9",
   "metadata": {},
   "outputs": [],
   "source": [
    "dataset = PathDataset(\n",
    "    DATASET_PATH / \"train.tsv\",\n",
    "    DATASET_PATH / \"test.tsv\",\n",
    "    DATASET_PATH / \"valid.tsv\",\n",
    ")\n",
    "\n",
    "g = nx.DiGraph()\n",
    "g.add_edges_from([(h, t, {\"title\": r}) for h, r, t in dataset.training.triples])"
   ]
  },
  {
   "cell_type": "markdown",
   "id": "ec70b691-b1c8-408a-a047-107f338a307c",
   "metadata": {},
   "source": [
    "## Visualization"
   ]
  },
  {
   "cell_type": "code",
   "execution_count": null,
   "id": "c459b71d-9721-4fdc-8810-f8db3b5aaf37",
   "metadata": {},
   "outputs": [],
   "source": [
    "_list_nodes = list(g.nodes)\n",
    "\n",
    "\n",
    "@interact\n",
    "def visualize(\n",
    "    nodes=widgets.SelectMultiple(\n",
    "        options=list(g.nodes), rows=10, value=[_list_nodes[0]]\n",
    "    ),\n",
    "    k=[0, 1, 2, 3],\n",
    "    toggle_physics=False,\n",
    "):\n",
    "    filtered = set(\n",
    "        chain(\n",
    "            *[\n",
    "                list(nx.single_source_shortest_path_length(g, n, cutoff=k))\n",
    "                for n in nodes\n",
    "            ]\n",
    "        )\n",
    "    )\n",
    "    # print(filtered)\n",
    "    subgraph = nx.subgraph_view(g, filter_node=lambda x: x in filtered)\n",
    "    nt = Network(\n",
    "        \"500px\", \"500px\", directed=True, notebook=True, cdn_resources=\"in_line\"\n",
    "    )\n",
    "    nt.inherit_edge_colors(False)\n",
    "    nt.from_nx(subgraph)\n",
    "    nt.toggle_physics(toggle_physics)\n",
    "    display(nt.show(\"basic.html\"))"
   ]
  },
  {
   "cell_type": "markdown",
   "id": "b39acfed-f523-48ff-9bb1-4440dcde625a",
   "metadata": {},
   "source": [
    "## EDA"
   ]
  },
  {
   "cell_type": "code",
   "execution_count": null,
   "id": "cee4242d-be56-4e11-89b3-1e155ed5da52",
   "metadata": {},
   "outputs": [],
   "source": [
    "data = []\n",
    "for subset_name in [\"training\", \"validation\", \"testing\"]:\n",
    "    subset_metrics = {\"subset\": subset_name}\n",
    "    subset = dataset.__getattribute__(subset_name)\n",
    "    triples = subset.triples\n",
    "    subset_metrics[\"num_triples\"] = len(triples)\n",
    "    subset_metrics[\"num_entities\"] = len(np.unique(triples[:, [0, 2]]))\n",
    "    subset_metrics[\"num_relations\"] = len(np.unique(triples[:, 1]))\n",
    "    data.append(subset_metrics)\n",
    "pd.DataFrame(data)"
   ]
  },
  {
   "cell_type": "code",
   "execution_count": null,
   "id": "ff788fca-9b36-4e75-b283-3f9d0201f4b5",
   "metadata": {},
   "outputs": [],
   "source": [
    "metrics = {}\n",
    "metrics[\"n_connected_components\"] = nx.number_connected_components(g.to_undirected())\n",
    "metrics[\"mean_size_of_connected_components\"] = mean(\n",
    "    len(c) for c in nx.connected_components(g.to_undirected())\n",
    ")\n",
    "metrics[\"median_size_of_connected_components\"] = median(\n",
    "    len(c) for c in nx.connected_components(g.to_undirected())\n",
    ")\n",
    "metrics[\"density\"] = nx.density(g)\n",
    "metrics[\"number_of_selfloops\"] = nx.number_of_selfloops(g)\n",
    "metrics[\"average_clustering\"] = nx.average_clustering(g)\n",
    "pd.DataFrame({\"training\": metrics})"
   ]
  },
  {
   "cell_type": "code",
   "execution_count": null,
   "id": "05759824-c591-405d-9606-d15e8200f677",
   "metadata": {},
   "outputs": [],
   "source": [
    "degree_sequence = sorted(g.degree(), key=lambda x: x[1], reverse=True)[:20]\n",
    "\n",
    "x, y = zip(*degree_sequence)\n",
    "fig, axes = plt.subplots(1, 2, figsize=(10, 5))\n",
    "axes[0].set_title(\"Degree of nodes\")\n",
    "axes[0].barh(y=x, width=y)\n",
    "axes[1].set_title(\"Degree Histogram\")\n",
    "sns.histplot([d for n, d in g.degree()], ax=axes[1], log_scale=True)\n",
    "plt.tight_layout()"
   ]
  },
  {
   "cell_type": "markdown",
   "id": "37843205-f5cf-4a77-8f5c-87e0d65cc5b4",
   "metadata": {},
   "source": [
    "## Training "
   ]
  },
  {
   "cell_type": "code",
   "execution_count": null,
   "id": "266901d4-bc7c-4278-8bc8-31e799e2c9df",
   "metadata": {},
   "outputs": [],
   "source": [
    "TRAIN_MODELS = False # or load pretrained"
   ]
  },
  {
   "cell_type": "code",
   "execution_count": null,
   "id": "50f0ec1d-0f32-42b9-a08e-ce18b8292e19",
   "metadata": {},
   "outputs": [],
   "source": [
    "save_location = Path(\"results/FB15k237\")\n",
    "\n",
    "if TRAIN_MODELS:\n",
    "    result = pipeline(\n",
    "        dataset=dataset,\n",
    "        model=\"TransE\",\n",
    "        model_kwargs={\"embedding_dim\": 32},\n",
    "        loss=\"nssa\",\n",
    "        loss_kwargs={\"adversarial_temperature\": 0.34, \"margin\": 9},\n",
    "        optimizer=\"Adam\",\n",
    "        optimizer_kwargs={\"lr\": 0.004},\n",
    "        negative_sampler_kwargs={\"num_negs_per_pos\": 33},\n",
    "        training_kwargs=dict(\n",
    "            num_epochs=20,\n",
    "            batch_size=512,\n",
    "            use_tqdm_batch=False,\n",
    "        ),\n",
    "        random_seed=123,\n",
    "    )\n",
    "    save_location.mkdir(exist_ok=True, parents=True)\n",
    "    result.save_to_directory(save_location)\n",
    "    print(f\"Saved: {os.listdir(save_location)}\")"
   ]
  },
  {
   "cell_type": "markdown",
   "id": "e704a3fe-e988-43ff-8215-4335af746af1",
   "metadata": {},
   "source": [
    "## Metrics"
   ]
  },
  {
   "cell_type": "code",
   "execution_count": null,
   "id": "e0d874e8-4be3-47d6-87d1-4f5282c1cee5",
   "metadata": {},
   "outputs": [],
   "source": [
    "if TRAIN_MODELS:\n",
    "    result.plot_losses()\n",
    "    plt.show()"
   ]
  },
  {
   "cell_type": "code",
   "execution_count": null,
   "id": "a39c5792-ec32-470d-aec0-d65558a5071f",
   "metadata": {},
   "outputs": [],
   "source": [
    "if TRAIN_MODELS:\n",
    "    metrics = result.metric_results.to_df()\n",
    "    display(metrics[(metrics.Side == \"both\") & (metrics.Type == \"realistic\")])"
   ]
  },
  {
   "cell_type": "markdown",
   "id": "99dd0181-717b-446e-b486-69aaa622dc0b",
   "metadata": {},
   "source": [
    "## Embeddings visualization"
   ]
  },
  {
   "cell_type": "code",
   "execution_count": null,
   "id": "cbe46181-124b-45fe-b144-51c2d51af94a",
   "metadata": {},
   "outputs": [],
   "source": [
    "if TRAIN_MODELS:\n",
    "    model = result.model\n",
    "else:\n",
    "    model  = torch.load(save_location / 'trained_model.pkl')\n",
    "    \n",
    "model"
   ]
  },
  {
   "cell_type": "code",
   "execution_count": null,
   "id": "1a8263fa-0045-49a0-a141-410b9928adc1",
   "metadata": {},
   "outputs": [],
   "source": [
    "embeddings = model.entity_representations[0](torch.arange(dataset.num_entities))\n",
    "labels = [dataset.training.entity_id_to_label[i] for i in range(dataset.num_entities)]"
   ]
  },
  {
   "cell_type": "code",
   "execution_count": null,
   "id": "798d4e76-08d1-4c96-9d13-2b39bdc03448",
   "metadata": {},
   "outputs": [],
   "source": [
    "prepare_for_visualization(embeddings.detach().numpy(), labels, Path(\"logs/FB15k237\"))"
   ]
  },
  {
   "cell_type": "code",
   "execution_count": null,
   "id": "4723aba1-2c27-4801-adaa-fcb3eb79b04b",
   "metadata": {},
   "outputs": [],
   "source": [
    "!tensorboard --logdir=logs/FB15k237"
   ]
  },
  {
   "cell_type": "markdown",
   "id": "d330e711-099b-4c8b-b024-580519caa754",
   "metadata": {},
   "source": [
    "## Ćwiczenie"
   ]
  },
  {
   "cell_type": "markdown",
   "id": "3f92b8c1-2ea4-4171-837b-b36cf5a18265",
   "metadata": {},
   "source": [
    "Napisz funckję predykcji dla modelu TransE bez korzystania z pyKEEN. Ma ona drukować 10 najbliższych sąsiadów pasujących do zapytania (h, r, ?). \n",
    "Zastosuj poniższy wzór do liczenia dystansu miedzy wektorami. Gdzie $sum$ to funkcja sumująca wszytskie elementy.\n",
    "$$d = sum((a - b)^2)$$\n",
    "\n",
    "Podpowiedzi:\n",
    "1. Wektory encji znajdują się pod `result.model.entity_representations`.\n",
    "2. Wektory relacji znajdują się pod `result.model.relation_representations`.\n",
    "3. Niezbędne słowniki pod: `dataset.training.relation_to_id`, `dataset.training.entity_to_id`, `dataset.training.entity_id_to_label`.\n",
    "4. TransE opiera się na założeniu: $$h+r=t$$"
   ]
  },
  {
   "cell_type": "code",
   "execution_count": null,
   "id": "d092eb61-770f-4bf5-a78a-003bfced65de",
   "metadata": {},
   "outputs": [],
   "source": [
    "model.eval()\n",
    "\n",
    "@interact\n",
    "def predict(head=list(sorted(dataset.training.entity_id_to_label.values())), relation=list(sorted(dataset.training.relation_id_to_label.values()))):\n",
    "    print(f\"{head}, {relation}, ?\")\n"
   ]
  }
 ],
 "metadata": {
  "kernelspec": {
   "display_name": "Python 3 (ipykernel)",
   "language": "python",
   "name": "python3"
  },
  "language_info": {
   "codemirror_mode": {
    "name": "ipython",
    "version": 3
   },
   "file_extension": ".py",
   "mimetype": "text/x-python",
   "name": "python",
   "nbconvert_exporter": "python",
   "pygments_lexer": "ipython3",
   "version": "3.11.3"
  }
 },
 "nbformat": 4,
 "nbformat_minor": 5
}
