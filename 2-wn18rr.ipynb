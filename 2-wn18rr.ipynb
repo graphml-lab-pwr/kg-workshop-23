{
 "cells": [
  {
   "cell_type": "code",
   "execution_count": 1,
   "id": "fae253a7-8b9e-415d-88e5-7e2726f3ab33",
   "metadata": {},
   "outputs": [],
   "source": [
    "%load_ext autoreload\n",
    "%autoreload 2"
   ]
  },
  {
   "cell_type": "code",
   "execution_count": 2,
   "id": "e63d87bc-a747-4d68-9316-4bb4e8b60d58",
   "metadata": {},
   "outputs": [
    {
     "name": "stderr",
     "output_type": "stream",
     "text": [
      "/home/albert/anaconda3/envs/kg-workshop-23/lib/python3.11/site-packages/tqdm/auto.py:21: TqdmWarning: IProgress not found. Please update jupyter and ipywidgets. See https://ipywidgets.readthedocs.io/en/stable/user_install.html\n",
      "  from .autonotebook import tqdm as notebook_tqdm\n",
      "2023-06-12 21:58:57.742095: I tensorflow/core/platform/cpu_feature_guard.cc:182] This TensorFlow binary is optimized to use available CPU instructions in performance-critical operations.\n",
      "To enable the following instructions: AVX2 FMA, in other operations, rebuild TensorFlow with the appropriate compiler flags.\n",
      "2023-06-12 21:58:58.960609: W tensorflow/compiler/tf2tensorrt/utils/py_utils.cc:38] TF-TRT Warning: Could not find TensorRT\n"
     ]
    }
   ],
   "source": [
    "import os\n",
    "from pathlib import Path\n",
    "\n",
    "import pykeen\n",
    "import matplotlib.pyplot as plt\n",
    "import torch\n",
    "from pykeen.datasets import Nations, WN18RR\n",
    "from pykeen.pipeline import pipeline\n",
    "from pykeen import predict\n",
    "import pandas as pd\n",
    "\n",
    "from pykeen.datasets import PathDataset\n",
    "\n",
    "\n",
    "from utils import prepare_for_visualization"
   ]
  },
  {
   "cell_type": "code",
   "execution_count": 3,
   "id": "468a82cf-239e-4449-a4f9-d570a5c6f558",
   "metadata": {},
   "outputs": [],
   "source": [
    "pd.set_option(\"display.float_format\", lambda x: \"%.5f\" % x)"
   ]
  },
  {
   "cell_type": "code",
   "execution_count": 4,
   "id": "144ef28a-1bf6-49b6-a5f8-b4cdfd6f4d76",
   "metadata": {},
   "outputs": [],
   "source": [
    "WN18RR_PATH = Path(\"data/WN18RR/text\")"
   ]
  },
  {
   "cell_type": "code",
   "execution_count": 5,
   "id": "04828c90-6529-451c-8f21-1dd479b8fed9",
   "metadata": {},
   "outputs": [],
   "source": [
    "wn18rr = PathDataset(\n",
    "    WN18RR_PATH / \"train.tsv\",\n",
    "    WN18RR_PATH / \"test.tsv\",\n",
    "    WN18RR_PATH / \"valid.tsv\",\n",
    ")"
   ]
  },
  {
   "cell_type": "code",
   "execution_count": 6,
   "id": "50f0ec1d-0f32-42b9-a08e-ce18b8292e19",
   "metadata": {},
   "outputs": [
    {
     "name": "stderr",
     "output_type": "stream",
     "text": [
      "You're trying to map triples with 213 entities and 0 relations that are not in the training set. These triples will be excluded from the mapping.\n",
      "In total 211 from 3134 triples were filtered out\n",
      "You're trying to map triples with 218 entities and 0 relations that are not in the training set. These triples will be excluded from the mapping.\n",
      "In total 217 from 3034 triples were filtered out\n",
      "No cuda devices were available. The model runs on CPU\n",
      "Training epochs on cpu: 100%|██████████████████████████████████████████████████████████████████████████████████████████████████████████████████████████████████| 50/50 [04:15<00:00,  5.12s/epoch, loss=0.139, prev_loss=0.139]\n",
      "INFO:pykeen.evaluation.evaluator:Currently automatic memory optimization only supports GPUs, but you're using a CPU. Therefore, the batch_size will be set to the default value.\n",
      "INFO:pykeen.evaluation.evaluator:No evaluation batch_size provided. Setting batch_size to '32'.\n",
      "Evaluating on cpu: 100%|██████████████████████████████████████████████████████████████████████████████████████████████████████████████████████████████████████████████████████████████| 2.92k/2.92k [01:16<00:00, 38.3triple/s]\n",
      "INFO:pykeen.evaluation.evaluator:Evaluation took 76.72s seconds\n"
     ]
    }
   ],
   "source": [
    "result = pipeline(\n",
    "    dataset=wn18rr,\n",
    "    model=\"TransE\",\n",
    "    model_kwargs={\"embedding_dim\": 32},\n",
    "    loss=\"nssa\",\n",
    "    loss_kwargs={\"adversarial_temperature\": 0.34, \"margin\": 9},\n",
    "    optimizer=\"Adam\",\n",
    "    optimizer_kwargs={\"lr\": 0.004},\n",
    "    # training_loop=training_loop,\n",
    "    # training_loop_kwargs=None,\n",
    "    # negative_sampler=config[\"negative_sampler\"],\n",
    "    negative_sampler_kwargs={\"num_negs_per_pos\": 33},\n",
    "    training_kwargs=dict(\n",
    "        num_epochs=50,\n",
    "        batch_size=512,\n",
    "        use_tqdm_batch=False,\n",
    "    ),\n",
    "    # evaluator=RankBasedEvaluator,\n",
    "    # evaluator_kwargs=evaluator_kwargs,\n",
    "    # evaluation_kwargs=evaluation_kwargs,\n",
    "    # result_tracker=result_tracker,\n",
    "    # evaluation_fallback=True,\n",
    "    random_seed=123,\n",
    ")"
   ]
  },
  {
   "cell_type": "code",
   "execution_count": 7,
   "id": "d2efe8c1-2af2-423b-aa85-77c9bcd5286b",
   "metadata": {},
   "outputs": [
    {
     "name": "stderr",
     "output_type": "stream",
     "text": [
      "INFO:pykeen.triples.triples_factory:Stored TriplesFactory(num_entities=40714, num_relations=11, create_inverse_triples=False, num_triples=86835, path=\"/home/albert/dev/pwr/kg-workshop-23/data/WN18RR/text/train.tsv\") to file:///home/albert/dev/pwr/kg-workshop-23/results/training_triples\n",
      "INFO:pykeen.pipeline.api:Saved to directory: file:///home/albert/dev/pwr/kg-workshop-23/results\n"
     ]
    },
    {
     "data": {
      "text/plain": [
       "['trained_model.pkl', 'results.json', 'training_triples', 'metadata.json']"
      ]
     },
     "execution_count": 7,
     "metadata": {},
     "output_type": "execute_result"
    }
   ],
   "source": [
    "save_location = \"results\"  # this directory\n",
    "result.save_to_directory(save_location)\n",
    "os.listdir(save_location)"
   ]
  },
  {
   "cell_type": "code",
   "execution_count": 8,
   "id": "cbe46181-124b-45fe-b144-51c2d51af94a",
   "metadata": {},
   "outputs": [
    {
     "data": {
      "text/plain": [
       "TransE(\n",
       "  (loss): NSSALoss()\n",
       "  (interaction): TransEInteraction()\n",
       "  (entity_representations): ModuleList(\n",
       "    (0): Embedding(\n",
       "      (_embeddings): Embedding(40714, 32)\n",
       "    )\n",
       "  )\n",
       "  (relation_representations): ModuleList(\n",
       "    (0): Embedding(\n",
       "      (_embeddings): Embedding(11, 32)\n",
       "    )\n",
       "  )\n",
       "  (weight_regularizers): ModuleList()\n",
       ")"
      ]
     },
     "execution_count": 8,
     "metadata": {},
     "output_type": "execute_result"
    }
   ],
   "source": [
    "# How to look at the model\n",
    "model = result.model\n",
    "model"
   ]
  },
  {
   "cell_type": "code",
   "execution_count": 9,
   "id": "e0d874e8-4be3-47d6-87d1-4f5282c1cee5",
   "metadata": {},
   "outputs": [
    {
     "data": {
      "image/png": "[encoded data removed]",
      "text/plain": [
       "<Figure size 640x480 with 1 Axes>"
      ]
     },
     "metadata": {},
     "output_type": "display_data"
    }
   ],
   "source": [
    "result.plot_losses()\n",
    "plt.show()"
   ]
  },
  {
   "cell_type": "code",
   "execution_count": 16,
   "id": "a39c5792-ec32-470d-aec0-d65558a5071f",
   "metadata": {},
   "outputs": [
    {
     "data": {
      "text/html": [
       "<div>\n",
       "<style scoped>\n",
       "    .dataframe tbody tr th:only-of-type {\n",
       "        vertical-align: middle;\n",
       "    }\n",
       "\n",
       "    .dataframe tbody tr th {\n",
       "        vertical-align: top;\n",
       "    }\n",
       "\n",
       "    .dataframe thead th {\n",
       "        text-align: right;\n",
       "    }\n",
       "</style>\n",
       "<table border=\"1\" class=\"dataframe\">\n",
       "  <thead>\n",
       "    <tr style=\"text-align: right;\">\n",
       "      <th></th>\n",
       "      <th>Side</th>\n",
       "      <th>Type</th>\n",
       "      <th>Metric</th>\n",
       "      <th>Value</th>\n",
       "    </tr>\n",
       "  </thead>\n",
       "  <tbody>\n",
       "    <tr>\n",
       "      <th>5</th>\n",
       "      <td>both</td>\n",
       "      <td>realistic</td>\n",
       "      <td>z_geometric_mean_rank</td>\n",
       "      <td>76.35409</td>\n",
       "    </tr>\n",
       "    <tr>\n",
       "      <th>14</th>\n",
       "      <td>both</td>\n",
       "      <td>realistic</td>\n",
       "      <td>z_inverse_harmonic_mean_rank</td>\n",
       "      <td>2214.67634</td>\n",
       "    </tr>\n",
       "    <tr>\n",
       "      <th>23</th>\n",
       "      <td>both</td>\n",
       "      <td>realistic</td>\n",
       "      <td>count</td>\n",
       "      <td>5846.00000</td>\n",
       "    </tr>\n",
       "    <tr>\n",
       "      <th>32</th>\n",
       "      <td>both</td>\n",
       "      <td>realistic</td>\n",
       "      <td>adjusted_geometric_mean_rank_index</td>\n",
       "      <td>0.99776</td>\n",
       "    </tr>\n",
       "    <tr>\n",
       "      <th>41</th>\n",
       "      <td>both</td>\n",
       "      <td>realistic</td>\n",
       "      <td>adjusted_inverse_harmonic_mean_rank</td>\n",
       "      <td>0.18402</td>\n",
       "    </tr>\n",
       "    <tr>\n",
       "      <th>50</th>\n",
       "      <td>both</td>\n",
       "      <td>realistic</td>\n",
       "      <td>inverse_geometric_mean_rank</td>\n",
       "      <td>0.02899</td>\n",
       "    </tr>\n",
       "    <tr>\n",
       "      <th>59</th>\n",
       "      <td>both</td>\n",
       "      <td>realistic</td>\n",
       "      <td>median_absolute_deviation</td>\n",
       "      <td>14.82602</td>\n",
       "    </tr>\n",
       "    <tr>\n",
       "      <th>68</th>\n",
       "      <td>both</td>\n",
       "      <td>realistic</td>\n",
       "      <td>adjusted_arithmetic_mean_rank_index</td>\n",
       "      <td>0.90824</td>\n",
       "    </tr>\n",
       "    <tr>\n",
       "      <th>77</th>\n",
       "      <td>both</td>\n",
       "      <td>realistic</td>\n",
       "      <td>variance</td>\n",
       "      <td>34128136.00000</td>\n",
       "    </tr>\n",
       "    <tr>\n",
       "      <th>86</th>\n",
       "      <td>both</td>\n",
       "      <td>realistic</td>\n",
       "      <td>geometric_mean_rank</td>\n",
       "      <td>34.49302</td>\n",
       "    </tr>\n",
       "    <tr>\n",
       "      <th>95</th>\n",
       "      <td>both</td>\n",
       "      <td>realistic</td>\n",
       "      <td>adjusted_arithmetic_mean_rank</td>\n",
       "      <td>0.09180</td>\n",
       "    </tr>\n",
       "    <tr>\n",
       "      <th>104</th>\n",
       "      <td>both</td>\n",
       "      <td>realistic</td>\n",
       "      <td>standard_deviation</td>\n",
       "      <td>5841.92920</td>\n",
       "    </tr>\n",
       "    <tr>\n",
       "      <th>113</th>\n",
       "      <td>both</td>\n",
       "      <td>realistic</td>\n",
       "      <td>inverse_arithmetic_mean_rank</td>\n",
       "      <td>0.00054</td>\n",
       "    </tr>\n",
       "    <tr>\n",
       "      <th>122</th>\n",
       "      <td>both</td>\n",
       "      <td>realistic</td>\n",
       "      <td>arithmetic_mean_rank</td>\n",
       "      <td>1868.21619</td>\n",
       "    </tr>\n",
       "    <tr>\n",
       "      <th>131</th>\n",
       "      <td>both</td>\n",
       "      <td>realistic</td>\n",
       "      <td>inverse_median_rank</td>\n",
       "      <td>0.08333</td>\n",
       "    </tr>\n",
       "    <tr>\n",
       "      <th>140</th>\n",
       "      <td>both</td>\n",
       "      <td>realistic</td>\n",
       "      <td>inverse_harmonic_mean_rank</td>\n",
       "      <td>0.18425</td>\n",
       "    </tr>\n",
       "    <tr>\n",
       "      <th>149</th>\n",
       "      <td>both</td>\n",
       "      <td>realistic</td>\n",
       "      <td>z_arithmetic_mean_rank</td>\n",
       "      <td>120.27623</td>\n",
       "    </tr>\n",
       "    <tr>\n",
       "      <th>158</th>\n",
       "      <td>both</td>\n",
       "      <td>realistic</td>\n",
       "      <td>median_rank</td>\n",
       "      <td>12.00000</td>\n",
       "    </tr>\n",
       "    <tr>\n",
       "      <th>167</th>\n",
       "      <td>both</td>\n",
       "      <td>realistic</td>\n",
       "      <td>harmonic_mean_rank</td>\n",
       "      <td>5.42748</td>\n",
       "    </tr>\n",
       "    <tr>\n",
       "      <th>176</th>\n",
       "      <td>both</td>\n",
       "      <td>realistic</td>\n",
       "      <td>hits_at_1</td>\n",
       "      <td>0.02925</td>\n",
       "    </tr>\n",
       "    <tr>\n",
       "      <th>185</th>\n",
       "      <td>both</td>\n",
       "      <td>realistic</td>\n",
       "      <td>hits_at_3</td>\n",
       "      <td>0.27814</td>\n",
       "    </tr>\n",
       "    <tr>\n",
       "      <th>194</th>\n",
       "      <td>both</td>\n",
       "      <td>realistic</td>\n",
       "      <td>hits_at_5</td>\n",
       "      <td>0.37051</td>\n",
       "    </tr>\n",
       "    <tr>\n",
       "      <th>203</th>\n",
       "      <td>both</td>\n",
       "      <td>realistic</td>\n",
       "      <td>hits_at_10</td>\n",
       "      <td>0.47639</td>\n",
       "    </tr>\n",
       "    <tr>\n",
       "      <th>212</th>\n",
       "      <td>both</td>\n",
       "      <td>realistic</td>\n",
       "      <td>z_hits_at_k</td>\n",
       "      <td>2322.82776</td>\n",
       "    </tr>\n",
       "    <tr>\n",
       "      <th>221</th>\n",
       "      <td>both</td>\n",
       "      <td>realistic</td>\n",
       "      <td>adjusted_hits_at_k</td>\n",
       "      <td>0.47627</td>\n",
       "    </tr>\n",
       "  </tbody>\n",
       "</table>\n",
       "</div>"
      ],
      "text/plain": [
       "     Side       Type                               Metric          Value\n",
       "5    both  realistic                z_geometric_mean_rank       76.35409\n",
       "14   both  realistic         z_inverse_harmonic_mean_rank     2214.67634\n",
       "23   both  realistic                                count     5846.00000\n",
       "32   both  realistic   adjusted_geometric_mean_rank_index        0.99776\n",
       "41   both  realistic  adjusted_inverse_harmonic_mean_rank        0.18402\n",
       "50   both  realistic          inverse_geometric_mean_rank        0.02899\n",
       "59   both  realistic            median_absolute_deviation       14.82602\n",
       "68   both  realistic  adjusted_arithmetic_mean_rank_index        0.90824\n",
       "77   both  realistic                             variance 34128136.00000\n",
       "86   both  realistic                  geometric_mean_rank       34.49302\n",
       "95   both  realistic        adjusted_arithmetic_mean_rank        0.09180\n",
       "104  both  realistic                   standard_deviation     5841.92920\n",
       "113  both  realistic         inverse_arithmetic_mean_rank        0.00054\n",
       "122  both  realistic                 arithmetic_mean_rank     1868.21619\n",
       "131  both  realistic                  inverse_median_rank        0.08333\n",
       "140  both  realistic           inverse_harmonic_mean_rank        0.18425\n",
       "149  both  realistic               z_arithmetic_mean_rank      120.27623\n",
       "158  both  realistic                          median_rank       12.00000\n",
       "167  both  realistic                   harmonic_mean_rank        5.42748\n",
       "176  both  realistic                            hits_at_1        0.02925\n",
       "185  both  realistic                            hits_at_3        0.27814\n",
       "194  both  realistic                            hits_at_5        0.37051\n",
       "203  both  realistic                           hits_at_10        0.47639\n",
       "212  both  realistic                          z_hits_at_k     2322.82776\n",
       "221  both  realistic                   adjusted_hits_at_k        0.47627"
      ]
     },
     "execution_count": 16,
     "metadata": {},
     "output_type": "execute_result"
    }
   ],
   "source": [
    "metrics = result.metric_results.to_df()\n",
    "metrics[(metrics.Side == \"both\") & (metrics.Type == \"realistic\")]"
   ]
  },
  {
   "cell_type": "code",
   "execution_count": 12,
   "id": "210b011b-d5c5-4d26-a617-863e4471356f",
   "metadata": {},
   "outputs": [
    {
     "data": {
      "text/plain": [
       "ModuleList(\n",
       "  (0): Embedding(\n",
       "    (_embeddings): Embedding(40714, 32)\n",
       "  )\n",
       ")"
      ]
     },
     "execution_count": 12,
     "metadata": {},
     "output_type": "execute_result"
    }
   ],
   "source": [
    "result.model.entity_representations"
   ]
  },
  {
   "cell_type": "code",
   "execution_count": 18,
   "id": "1a8263fa-0045-49a0-a141-410b9928adc1",
   "metadata": {},
   "outputs": [],
   "source": [
    "embeddings = result.model.entity_representations[0](torch.arange(wn18rr.num_entities))\n",
    "labels = [wn18rr.training.entity_id_to_label[i] for i in range(wn18rr.num_entities)]"
   ]
  },
  {
   "cell_type": "code",
   "execution_count": 19,
   "id": "798d4e76-08d1-4c96-9d13-2b39bdc03448",
   "metadata": {},
   "outputs": [],
   "source": [
    "prepare_for_visualization(embeddings.detach().numpy(), labels, Path(\"logs/wn18rr\"))"
   ]
  },
  {
   "cell_type": "code",
   "execution_count": null,
   "id": "4723aba1-2c27-4801-adaa-fcb3eb79b04b",
   "metadata": {},
   "outputs": [],
   "source": []
  }
 ],
 "metadata": {
  "kernelspec": {
   "display_name": "Python 3 (ipykernel)",
   "language": "python",
   "name": "python3"
  },
  "language_info": {
   "codemirror_mode": {
    "name": "ipython",
    "version": 3
   },
   "file_extension": ".py",
   "mimetype": "text/x-python",
   "name": "python",
   "nbconvert_exporter": "python",
   "pygments_lexer": "ipython3",
   "version": "3.11.3"
  }
 },
 "nbformat": 4,
 "nbformat_minor": 5
}
