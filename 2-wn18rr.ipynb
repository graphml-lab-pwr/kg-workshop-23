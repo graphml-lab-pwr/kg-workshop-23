{
 "cells": [
  {
   "cell_type": "code",
   "execution_count": 3,
   "id": "fae253a7-8b9e-415d-88e5-7e2726f3ab33",
   "metadata": {},
   "outputs": [],
   "source": [
    "%load_ext autoreload\n",
    "%autoreload 2"
   ]
  },
  {
   "cell_type": "code",
   "execution_count": 50,
   "id": "e63d87bc-a747-4d68-9316-4bb4e8b60d58",
   "metadata": {},
   "outputs": [],
   "source": [
    "import os\n",
    "import pykeen\n",
    "import matplotlib.pyplot as plt\n",
    "import torch\n",
    "from pykeen.datasets import Nations, WN18RR, FB15k237\n",
    "from pykeen.pipeline import pipeline\n",
    "from pykeen import predict\n",
    "from statistics import mean, median\n",
    "import pandas as pd\n",
    "import numpy as np\n",
    "import seaborn as sns\n",
    "import networkx as nx\n",
    "from pyvis.network import Network\n",
    "from ipywidgets import interact, interact_manual\n",
    "import ipywidgets as widgets\n",
    "from itertools import chain\n",
    "from pathlib import Path\n",
    "from rich import print\n",
    "from tqdm import tqdm\n",
    "\n",
    "from utils import prepare_for_visualization"
   ]
  },
  {
   "cell_type": "markdown",
   "id": "1aa368bd-734a-47e6-8054-857ba0014b77",
   "metadata": {},
   "source": [
    "## Settings"
   ]
  },
  {
   "cell_type": "code",
   "execution_count": 10,
   "id": "468a82cf-239e-4449-a4f9-d570a5c6f558",
   "metadata": {},
   "outputs": [],
   "source": [
    "pd.set_option(\"display.float_format\", lambda x: \"%.5f\" % x)"
   ]
  },
  {
   "cell_type": "markdown",
   "id": "e6f23caa-6d2c-41e6-bddf-9fe17b11ce10",
   "metadata": {},
   "source": [
    "## Loading data"
   ]
  },
  {
   "cell_type": "code",
   "execution_count": 54,
   "id": "144ef28a-1bf6-49b6-a5f8-b4cdfd6f4d76",
   "metadata": {},
   "outputs": [],
   "source": [
    "DATASET_PATH = Path(\"data/FB15k237\")"
   ]
  },
  {
   "cell_type": "code",
   "execution_count": 55,
   "id": "04828c90-6529-451c-8f21-1dd479b8fed9",
   "metadata": {},
   "outputs": [
    {
     "name": "stderr",
     "output_type": "stream",
     "text": [
      "WARNING:pykeen.triples.triples_factory:You're trying to map triples with 29 entities and 0 relations that are not in the training set. These triples will be excluded from the mapping.\n",
      "WARNING:pykeen.triples.triples_factory:In total 27 from 20466 triples were filtered out\n",
      "WARNING:pykeen.triples.triples_factory:Reconstructing all label-based triples. This is expensive and rarely needed.\n"
     ]
    }
   ],
   "source": [
    "dataset = PathDataset(\n",
    "    WN18RR_PATH / \"train.tsv\",\n",
    "    WN18RR_PATH / \"test.tsv\",\n",
    "    WN18RR_PATH / \"valid.tsv\",\n",
    ")\n",
    "\n",
    "g = nx.DiGraph()\n",
    "g.add_edges_from([(h, t, {\"title\": r}) for h, r, t in dataset.training.triples])"
   ]
  },
  {
   "cell_type": "markdown",
   "id": "ec70b691-b1c8-408a-a047-107f338a307c",
   "metadata": {},
   "source": [
    "## Visualization"
   ]
  },
  {
   "cell_type": "code",
   "execution_count": 61,
   "id": "c459b71d-9721-4fdc-8810-f8db3b5aaf37",
   "metadata": {},
   "outputs": [
    {
     "data": {
      "application/vnd.jupyter.widget-view+json": {
       "model_id": "dc28fbf81da34d82a3da651f9aeaf1b3",
       "version_major": 2,
       "version_minor": 0
      },
      "text/plain": [
       "interactive(children=(SelectMultiple(description='nodes', index=(0,), options=(\"'N Sync\", 'Grammy Award for Be…"
      ]
     },
     "metadata": {},
     "output_type": "display_data"
    }
   ],
   "source": [
    "_list_nodes = list(g.nodes)\n",
    "@interact\n",
    "def visualize(nodes=widgets.SelectMultiple(options=list(g.nodes),  rows=10, value=[_list_nodes[0]]), k=[0, 1,2,3], toggle_physics=False):\n",
    "    filtered = set(chain(*[list(nx.single_source_shortest_path_length(g, n, cutoff=k)) for n in nodes]))\n",
    "    # print(filtered)\n",
    "    subgraph = nx.subgraph_view(g, filter_node=lambda x: x in filtered)\n",
    "    nt = Network(\"500px\", \"500px\", directed=True, notebook=True)\n",
    "    nt.inherit_edge_colors(False)\n",
    "    nt.from_nx(subgraph)\n",
    "    nt.toggle_physics(toggle_physics)\n",
    "    display(nt.show(\"basic.html\"))\n",
    "    "
   ]
  },
  {
   "cell_type": "markdown",
   "id": "b39acfed-f523-48ff-9bb1-4440dcde625a",
   "metadata": {},
   "source": [
    "## EDA"
   ]
  },
  {
   "cell_type": "code",
   "execution_count": 62,
   "id": "cee4242d-be56-4e11-89b3-1e155ed5da52",
   "metadata": {},
   "outputs": [
    {
     "name": "stderr",
     "output_type": "stream",
     "text": [
      "WARNING:pykeen.triples.triples_factory:Reconstructing all label-based triples. This is expensive and rarely needed.\n",
      "WARNING:pykeen.triples.triples_factory:You're trying to map triples with 9 entities and 0 relations that are not in the training set. These triples will be excluded from the mapping.\n",
      "WARNING:pykeen.triples.triples_factory:In total 9 from 17535 triples were filtered out\n",
      "WARNING:pykeen.triples.triples_factory:Reconstructing all label-based triples. This is expensive and rarely needed.\n",
      "WARNING:pykeen.triples.triples_factory:Reconstructing all label-based triples. This is expensive and rarely needed.\n"
     ]
    },
    {
     "data": {
      "text/html": [
       "<div>\n",
       "<style scoped>\n",
       "    .dataframe tbody tr th:only-of-type {\n",
       "        vertical-align: middle;\n",
       "    }\n",
       "\n",
       "    .dataframe tbody tr th {\n",
       "        vertical-align: top;\n",
       "    }\n",
       "\n",
       "    .dataframe thead th {\n",
       "        text-align: right;\n",
       "    }\n",
       "</style>\n",
       "<table border=\"1\" class=\"dataframe\">\n",
       "  <thead>\n",
       "    <tr style=\"text-align: right;\">\n",
       "      <th></th>\n",
       "      <th>subset</th>\n",
       "      <th>num_triples</th>\n",
       "      <th>num_entities</th>\n",
       "      <th>num_relations</th>\n",
       "    </tr>\n",
       "  </thead>\n",
       "  <tbody>\n",
       "    <tr>\n",
       "      <th>0</th>\n",
       "      <td>training</td>\n",
       "      <td>271524</td>\n",
       "      <td>14233</td>\n",
       "      <td>237</td>\n",
       "    </tr>\n",
       "    <tr>\n",
       "      <th>1</th>\n",
       "      <td>validation</td>\n",
       "      <td>17519</td>\n",
       "      <td>9705</td>\n",
       "      <td>223</td>\n",
       "    </tr>\n",
       "    <tr>\n",
       "      <th>2</th>\n",
       "      <td>testing</td>\n",
       "      <td>20432</td>\n",
       "      <td>10212</td>\n",
       "      <td>224</td>\n",
       "    </tr>\n",
       "  </tbody>\n",
       "</table>\n",
       "</div>"
      ],
      "text/plain": [
       "       subset  num_triples  num_entities  num_relations\n",
       "0    training       271524         14233            237\n",
       "1  validation        17519          9705            223\n",
       "2     testing        20432         10212            224"
      ]
     },
     "execution_count": 62,
     "metadata": {},
     "output_type": "execute_result"
    }
   ],
   "source": [
    "data = []\n",
    "for subset_name in [\"training\", \"validation\", \"testing\"]:\n",
    "    subset_metrics = {\"subset\": subset_name}\n",
    "    subset = dataset.__getattribute__(subset_name)\n",
    "    triples = subset.triples\n",
    "    subset_metrics[\"num_triples\"] = len(triples)\n",
    "    subset_metrics[\"num_entities\"] = len(np.unique(triples[:, [0,2]]))\n",
    "    subset_metrics[\"num_relations\"] = len(np.unique(triples[:, 1]))\n",
    "    data.append(subset_metrics)\n",
    "\n",
    "pd.DataFrame(data)"
   ]
  },
  {
   "cell_type": "code",
   "execution_count": 63,
   "id": "ff788fca-9b36-4e75-b283-3f9d0201f4b5",
   "metadata": {},
   "outputs": [
    {
     "data": {
      "text/html": [
       "<div>\n",
       "<style scoped>\n",
       "    .dataframe tbody tr th:only-of-type {\n",
       "        vertical-align: middle;\n",
       "    }\n",
       "\n",
       "    .dataframe tbody tr th {\n",
       "        vertical-align: top;\n",
       "    }\n",
       "\n",
       "    .dataframe thead th {\n",
       "        text-align: right;\n",
       "    }\n",
       "</style>\n",
       "<table border=\"1\" class=\"dataframe\">\n",
       "  <thead>\n",
       "    <tr style=\"text-align: right;\">\n",
       "      <th></th>\n",
       "      <th>training</th>\n",
       "    </tr>\n",
       "  </thead>\n",
       "  <tbody>\n",
       "    <tr>\n",
       "      <th>average_clustering</th>\n",
       "      <td>0.14845</td>\n",
       "    </tr>\n",
       "    <tr>\n",
       "      <th>density</th>\n",
       "      <td>0.00121</td>\n",
       "    </tr>\n",
       "    <tr>\n",
       "      <th>mean_size_of_connected_components</th>\n",
       "      <td>2846.60000</td>\n",
       "    </tr>\n",
       "    <tr>\n",
       "      <th>median_size_of_connected_components</th>\n",
       "      <td>2.00000</td>\n",
       "    </tr>\n",
       "    <tr>\n",
       "      <th>n_connected_components</th>\n",
       "      <td>5.00000</td>\n",
       "    </tr>\n",
       "    <tr>\n",
       "      <th>number_of_selfloops</th>\n",
       "      <td>1158.00000</td>\n",
       "    </tr>\n",
       "  </tbody>\n",
       "</table>\n",
       "</div>"
      ],
      "text/plain": [
       "                                      training\n",
       "average_clustering                     0.14845\n",
       "density                                0.00121\n",
       "mean_size_of_connected_components   2846.60000\n",
       "median_size_of_connected_components    2.00000\n",
       "n_connected_components                 5.00000\n",
       "number_of_selfloops                 1158.00000"
      ]
     },
     "execution_count": 63,
     "metadata": {},
     "output_type": "execute_result"
    }
   ],
   "source": [
    "metrics = {}\n",
    "\n",
    "metrics[\"n_connected_components\"] = nx.number_connected_components(g.to_undirected())\n",
    "metrics[\"mean_size_of_connected_components\"] = mean(\n",
    "    len(c) for c in nx.connected_components(g.to_undirected())\n",
    ")\n",
    "metrics[\"median_size_of_connected_components\"] = median(\n",
    "    len(c) for c in nx.connected_components(g.to_undirected())\n",
    ")\n",
    "metrics[\"density\"] = nx.density(g)\n",
    "metrics[\"number_of_selfloops\"] = nx.number_of_selfloops(g)\n",
    "# metrics[\"degree_centrality\"] = nx.degree_centrality(g)\n",
    "# metrics[\"in_degree_centrality\"] = nx.in_degree_centrality(g)\n",
    "# metrics[\"out_degree_centrality\"] = nx.out_degree_centrality(g)\n",
    "# metrics[\"closeness_centrality\"] = nx.closeness_centrality(g)\n",
    "metrics[\"average_clustering\"] = nx.average_clustering(g)\n",
    "\n",
    "pd.DataFrame({\"training\":metrics})"
   ]
  },
  {
   "cell_type": "code",
   "execution_count": 64,
   "id": "05759824-c591-405d-9606-d15e8200f677",
   "metadata": {},
   "outputs": [
    {
     "data": {
      "image/png": "[encoded data removed]",
      "text/plain": [
       "<Figure size 1000x500 with 2 Axes>"
      ]
     },
     "metadata": {},
     "output_type": "display_data"
    }
   ],
   "source": [
    "degree_sequence = sorted(g.degree(), key=lambda x: x[1], reverse=True)[:20]\n",
    "\n",
    "x, y = zip(*degree_sequence)\n",
    "fig, axes = plt.subplots(1,2, figsize=(10,5))\n",
    "axes[0].set_title(\"Degree of nodes\")\n",
    "axes[0].barh(y=x, width=y)\n",
    "axes[1].set_title(\"Degree Histogram\")\n",
    "sns.histplot([d for n, d in g.degree()], ax=axes[1], log_scale=True)\n",
    "plt.tight_layout()"
   ]
  },
  {
   "cell_type": "markdown",
   "id": "37843205-f5cf-4a77-8f5c-87e0d65cc5b4",
   "metadata": {},
   "source": [
    "## Training "
   ]
  },
  {
   "cell_type": "code",
   "execution_count": 65,
   "id": "50f0ec1d-0f32-42b9-a08e-ce18b8292e19",
   "metadata": {},
   "outputs": [
    {
     "name": "stderr",
     "output_type": "stream",
     "text": [
      "WARNING:pykeen.utils:No cuda devices were available. The model runs on CPU\n",
      "INFO:pykeen.pipeline.api:Using device: None\n"
     ]
    },
    {
     "data": {
      "application/vnd.jupyter.widget-view+json": {
       "model_id": "3f287ced09ca4126a8255b5aa9414fd0",
       "version_major": 2,
       "version_minor": 0
      },
      "text/plain": [
       "Training epochs on cpu:   0%|          | 0/50 [00:00<?, ?epoch/s]"
      ]
     },
     "metadata": {},
     "output_type": "display_data"
    },
    {
     "name": "stderr",
     "output_type": "stream",
     "text": [
      "INFO:pykeen.evaluation.evaluator:Currently automatic memory optimization only supports GPUs, but you're using a CPU. Therefore, the batch_size will be set to the default value.\n",
      "INFO:pykeen.evaluation.evaluator:No evaluation batch_size provided. Setting batch_size to '32'.\n"
     ]
    },
    {
     "data": {
      "application/vnd.jupyter.widget-view+json": {
       "model_id": "890d4d524f9e4d48a0c70983db2bd4e6",
       "version_major": 2,
       "version_minor": 0
      },
      "text/plain": [
       "Evaluating on cpu:   0%|          | 0.00/20.4k [00:00<?, ?triple/s]"
      ]
     },
     "metadata": {},
     "output_type": "display_data"
    },
    {
     "name": "stderr",
     "output_type": "stream",
     "text": [
      "INFO:pykeen.evaluation.evaluator:Evaluation took 61.37s seconds\n"
     ]
    }
   ],
   "source": [
    "result = pipeline(\n",
    "    dataset=dataset,\n",
    "    model=\"TransE\",\n",
    "    model_kwargs={\"embedding_dim\": 32},\n",
    "    loss=\"nssa\",\n",
    "    loss_kwargs={\"adversarial_temperature\": 0.34, \"margin\": 9},\n",
    "    optimizer=\"Adam\",\n",
    "    optimizer_kwargs={\"lr\": 0.004},\n",
    "    negative_sampler_kwargs={\"num_negs_per_pos\": 33},\n",
    "    training_kwargs=dict(\n",
    "        num_epochs=50,\n",
    "        batch_size=512,\n",
    "        use_tqdm_batch=False,\n",
    "    ),\n",
    "    random_seed=123,\n",
    ")"
   ]
  },
  {
   "cell_type": "code",
   "execution_count": 66,
   "id": "d2efe8c1-2af2-423b-aa85-77c9bcd5286b",
   "metadata": {},
   "outputs": [
    {
     "name": "stderr",
     "output_type": "stream",
     "text": [
      "INFO:pykeen.triples.triples_factory:Stored TriplesFactory(num_entities=14233, num_relations=237, create_inverse_triples=False, num_triples=271524, path=\"/home/albert/dev/kg-workshop-23/data/FB15k237/train.tsv\") to file:///home/albert/dev/kg-workshop-23/results/training_triples\n",
      "INFO:pykeen.pipeline.api:Saved to directory: file:///home/albert/dev/kg-workshop-23/results\n"
     ]
    },
    {
     "data": {
      "text/html": [
       "<pre style=\"white-space:pre;overflow-x:auto;line-height:normal;font-family:Menlo,'DejaVu Sans Mono',consolas,'Courier New',monospace\">Saved: <span style=\"font-weight: bold\">[</span><span style=\"color: #008000; text-decoration-color: #008000\">'metadata.json'</span>, <span style=\"color: #008000; text-decoration-color: #008000\">'results.json'</span>, <span style=\"color: #008000; text-decoration-color: #008000\">'training_triples'</span>, <span style=\"color: #008000; text-decoration-color: #008000\">'trained_model.pkl'</span><span style=\"font-weight: bold\">]</span>\n",
       "</pre>\n"
      ],
      "text/plain": [
       "Saved: \u001b[1m[\u001b[0m\u001b[32m'metadata.json'\u001b[0m, \u001b[32m'results.json'\u001b[0m, \u001b[32m'training_triples'\u001b[0m, \u001b[32m'trained_model.pkl'\u001b[0m\u001b[1m]\u001b[0m\n"
      ]
     },
     "metadata": {},
     "output_type": "display_data"
    }
   ],
   "source": [
    "save_location = Path(\"results\")\n",
    "save_location.mkdir(exist_ok=True)\n",
    "result.save_to_directory(save_location)\n",
    "print(f\"Saved: {os.listdir(save_location)}\")"
   ]
  },
  {
   "cell_type": "markdown",
   "id": "e704a3fe-e988-43ff-8215-4335af746af1",
   "metadata": {},
   "source": [
    "## Metrics"
   ]
  },
  {
   "cell_type": "code",
   "execution_count": 67,
   "id": "e0d874e8-4be3-47d6-87d1-4f5282c1cee5",
   "metadata": {},
   "outputs": [
    {
     "data": {
      "image/png": "[encoded data removed]",
      "text/plain": [
       "<Figure size 640x480 with 1 Axes>"
      ]
     },
     "metadata": {},
     "output_type": "display_data"
    }
   ],
   "source": [
    "result.plot_losses()\n",
    "plt.show()"
   ]
  },
  {
   "cell_type": "code",
   "execution_count": 68,
   "id": "399f7334-cdfc-4739-97a3-b43128198f07",
   "metadata": {},
   "outputs": [],
   "source": [
    "metrics = result.metric_results.to_df()"
   ]
  },
  {
   "cell_type": "code",
   "execution_count": 69,
   "id": "a39c5792-ec32-470d-aec0-d65558a5071f",
   "metadata": {},
   "outputs": [
    {
     "data": {
      "text/html": [
       "<div>\n",
       "<style scoped>\n",
       "    .dataframe tbody tr th:only-of-type {\n",
       "        vertical-align: middle;\n",
       "    }\n",
       "\n",
       "    .dataframe tbody tr th {\n",
       "        vertical-align: top;\n",
       "    }\n",
       "\n",
       "    .dataframe thead th {\n",
       "        text-align: right;\n",
       "    }\n",
       "</style>\n",
       "<table border=\"1\" class=\"dataframe\">\n",
       "  <thead>\n",
       "    <tr style=\"text-align: right;\">\n",
       "      <th></th>\n",
       "      <th>Side</th>\n",
       "      <th>Type</th>\n",
       "      <th>Metric</th>\n",
       "      <th>Value</th>\n",
       "    </tr>\n",
       "  </thead>\n",
       "  <tbody>\n",
       "    <tr>\n",
       "      <th>5</th>\n",
       "      <td>both</td>\n",
       "      <td>realistic</td>\n",
       "      <td>inverse_harmonic_mean_rank</td>\n",
       "      <td>0.21378</td>\n",
       "    </tr>\n",
       "    <tr>\n",
       "      <th>14</th>\n",
       "      <td>both</td>\n",
       "      <td>realistic</td>\n",
       "      <td>inverse_geometric_mean_rank</td>\n",
       "      <td>0.03589</td>\n",
       "    </tr>\n",
       "    <tr>\n",
       "      <th>23</th>\n",
       "      <td>both</td>\n",
       "      <td>realistic</td>\n",
       "      <td>variance</td>\n",
       "      <td>374911.43750</td>\n",
       "    </tr>\n",
       "    <tr>\n",
       "      <th>32</th>\n",
       "      <td>both</td>\n",
       "      <td>realistic</td>\n",
       "      <td>arithmetic_mean_rank</td>\n",
       "      <td>234.31000</td>\n",
       "    </tr>\n",
       "    <tr>\n",
       "      <th>41</th>\n",
       "      <td>both</td>\n",
       "      <td>realistic</td>\n",
       "      <td>median_rank</td>\n",
       "      <td>26.00000</td>\n",
       "    </tr>\n",
       "    <tr>\n",
       "      <th>50</th>\n",
       "      <td>both</td>\n",
       "      <td>realistic</td>\n",
       "      <td>inverse_median_rank</td>\n",
       "      <td>0.03846</td>\n",
       "    </tr>\n",
       "    <tr>\n",
       "      <th>59</th>\n",
       "      <td>both</td>\n",
       "      <td>realistic</td>\n",
       "      <td>z_arithmetic_mean_rank</td>\n",
       "      <td>338.01580</td>\n",
       "    </tr>\n",
       "    <tr>\n",
       "      <th>68</th>\n",
       "      <td>both</td>\n",
       "      <td>realistic</td>\n",
       "      <td>z_geometric_mean_rank</td>\n",
       "      <td>201.44390</td>\n",
       "    </tr>\n",
       "    <tr>\n",
       "      <th>77</th>\n",
       "      <td>both</td>\n",
       "      <td>realistic</td>\n",
       "      <td>adjusted_arithmetic_mean_rank_index</td>\n",
       "      <td>0.96667</td>\n",
       "    </tr>\n",
       "    <tr>\n",
       "      <th>86</th>\n",
       "      <td>both</td>\n",
       "      <td>realistic</td>\n",
       "      <td>adjusted_inverse_harmonic_mean_rank</td>\n",
       "      <td>0.21321</td>\n",
       "    </tr>\n",
       "    <tr>\n",
       "      <th>95</th>\n",
       "      <td>both</td>\n",
       "      <td>realistic</td>\n",
       "      <td>count</td>\n",
       "      <td>40864.00000</td>\n",
       "    </tr>\n",
       "    <tr>\n",
       "      <th>104</th>\n",
       "      <td>both</td>\n",
       "      <td>realistic</td>\n",
       "      <td>standard_deviation</td>\n",
       "      <td>612.30011</td>\n",
       "    </tr>\n",
       "    <tr>\n",
       "      <th>113</th>\n",
       "      <td>both</td>\n",
       "      <td>realistic</td>\n",
       "      <td>adjusted_arithmetic_mean_rank</td>\n",
       "      <td>0.03347</td>\n",
       "    </tr>\n",
       "    <tr>\n",
       "      <th>122</th>\n",
       "      <td>both</td>\n",
       "      <td>realistic</td>\n",
       "      <td>inverse_arithmetic_mean_rank</td>\n",
       "      <td>0.00427</td>\n",
       "    </tr>\n",
       "    <tr>\n",
       "      <th>131</th>\n",
       "      <td>both</td>\n",
       "      <td>realistic</td>\n",
       "      <td>geometric_mean_rank</td>\n",
       "      <td>27.86530</td>\n",
       "    </tr>\n",
       "    <tr>\n",
       "      <th>140</th>\n",
       "      <td>both</td>\n",
       "      <td>realistic</td>\n",
       "      <td>median_absolute_deviation</td>\n",
       "      <td>37.06506</td>\n",
       "    </tr>\n",
       "    <tr>\n",
       "      <th>149</th>\n",
       "      <td>both</td>\n",
       "      <td>realistic</td>\n",
       "      <td>adjusted_geometric_mean_rank_index</td>\n",
       "      <td>0.99478</td>\n",
       "    </tr>\n",
       "    <tr>\n",
       "      <th>158</th>\n",
       "      <td>both</td>\n",
       "      <td>realistic</td>\n",
       "      <td>z_inverse_harmonic_mean_rank</td>\n",
       "      <td>3976.00666</td>\n",
       "    </tr>\n",
       "    <tr>\n",
       "      <th>167</th>\n",
       "      <td>both</td>\n",
       "      <td>realistic</td>\n",
       "      <td>harmonic_mean_rank</td>\n",
       "      <td>4.67765</td>\n",
       "    </tr>\n",
       "    <tr>\n",
       "      <th>176</th>\n",
       "      <td>both</td>\n",
       "      <td>realistic</td>\n",
       "      <td>hits_at_1</td>\n",
       "      <td>0.13535</td>\n",
       "    </tr>\n",
       "    <tr>\n",
       "      <th>185</th>\n",
       "      <td>both</td>\n",
       "      <td>realistic</td>\n",
       "      <td>hits_at_3</td>\n",
       "      <td>0.22976</td>\n",
       "    </tr>\n",
       "    <tr>\n",
       "      <th>194</th>\n",
       "      <td>both</td>\n",
       "      <td>realistic</td>\n",
       "      <td>hits_at_5</td>\n",
       "      <td>0.28588</td>\n",
       "    </tr>\n",
       "    <tr>\n",
       "      <th>203</th>\n",
       "      <td>both</td>\n",
       "      <td>realistic</td>\n",
       "      <td>hits_at_10</td>\n",
       "      <td>0.37586</td>\n",
       "    </tr>\n",
       "    <tr>\n",
       "      <th>212</th>\n",
       "      <td>both</td>\n",
       "      <td>realistic</td>\n",
       "      <td>z_hits_at_k</td>\n",
       "      <td>2833.94129</td>\n",
       "    </tr>\n",
       "    <tr>\n",
       "      <th>221</th>\n",
       "      <td>both</td>\n",
       "      <td>realistic</td>\n",
       "      <td>adjusted_hits_at_k</td>\n",
       "      <td>0.37541</td>\n",
       "    </tr>\n",
       "  </tbody>\n",
       "</table>\n",
       "</div>"
      ],
      "text/plain": [
       "     Side       Type                               Metric        Value\n",
       "5    both  realistic           inverse_harmonic_mean_rank      0.21378\n",
       "14   both  realistic          inverse_geometric_mean_rank      0.03589\n",
       "23   both  realistic                             variance 374911.43750\n",
       "32   both  realistic                 arithmetic_mean_rank    234.31000\n",
       "41   both  realistic                          median_rank     26.00000\n",
       "50   both  realistic                  inverse_median_rank      0.03846\n",
       "59   both  realistic               z_arithmetic_mean_rank    338.01580\n",
       "68   both  realistic                z_geometric_mean_rank    201.44390\n",
       "77   both  realistic  adjusted_arithmetic_mean_rank_index      0.96667\n",
       "86   both  realistic  adjusted_inverse_harmonic_mean_rank      0.21321\n",
       "95   both  realistic                                count  40864.00000\n",
       "104  both  realistic                   standard_deviation    612.30011\n",
       "113  both  realistic        adjusted_arithmetic_mean_rank      0.03347\n",
       "122  both  realistic         inverse_arithmetic_mean_rank      0.00427\n",
       "131  both  realistic                  geometric_mean_rank     27.86530\n",
       "140  both  realistic            median_absolute_deviation     37.06506\n",
       "149  both  realistic   adjusted_geometric_mean_rank_index      0.99478\n",
       "158  both  realistic         z_inverse_harmonic_mean_rank   3976.00666\n",
       "167  both  realistic                   harmonic_mean_rank      4.67765\n",
       "176  both  realistic                            hits_at_1      0.13535\n",
       "185  both  realistic                            hits_at_3      0.22976\n",
       "194  both  realistic                            hits_at_5      0.28588\n",
       "203  both  realistic                           hits_at_10      0.37586\n",
       "212  both  realistic                          z_hits_at_k   2833.94129\n",
       "221  both  realistic                   adjusted_hits_at_k      0.37541"
      ]
     },
     "execution_count": 69,
     "metadata": {},
     "output_type": "execute_result"
    }
   ],
   "source": [
    "metrics[(metrics.Side == \"both\") & (metrics.Type == \"realistic\")]"
   ]
  },
  {
   "cell_type": "markdown",
   "id": "99dd0181-717b-446e-b486-69aaa622dc0b",
   "metadata": {},
   "source": [
    "## Embeddings visualization"
   ]
  },
  {
   "cell_type": "code",
   "execution_count": 70,
   "id": "cbe46181-124b-45fe-b144-51c2d51af94a",
   "metadata": {},
   "outputs": [
    {
     "data": {
      "text/plain": [
       "TransE(\n",
       "  (loss): NSSALoss()\n",
       "  (interaction): TransEInteraction()\n",
       "  (entity_representations): ModuleList(\n",
       "    (0): Embedding(\n",
       "      (_embeddings): Embedding(14233, 32)\n",
       "    )\n",
       "  )\n",
       "  (relation_representations): ModuleList(\n",
       "    (0): Embedding(\n",
       "      (_embeddings): Embedding(237, 32)\n",
       "    )\n",
       "  )\n",
       "  (weight_regularizers): ModuleList()\n",
       ")"
      ]
     },
     "execution_count": 70,
     "metadata": {},
     "output_type": "execute_result"
    }
   ],
   "source": [
    "model = result.model\n",
    "model"
   ]
  },
  {
   "cell_type": "code",
   "execution_count": 71,
   "id": "1a8263fa-0045-49a0-a141-410b9928adc1",
   "metadata": {},
   "outputs": [],
   "source": [
    "embeddings = result.model.entity_representations[0](torch.arange(dataset.num_entities))\n",
    "labels = [dataset.training.entity_id_to_label[i] for i in range(dataset.num_entities)]"
   ]
  },
  {
   "cell_type": "code",
   "execution_count": 72,
   "id": "798d4e76-08d1-4c96-9d13-2b39bdc03448",
   "metadata": {},
   "outputs": [],
   "source": [
    "prepare_for_visualization(embeddings.detach().numpy(), labels, Path(\"logs/FB15k237\"))"
   ]
  },
  {
   "cell_type": "code",
   "execution_count": null,
   "id": "4723aba1-2c27-4801-adaa-fcb3eb79b04b",
   "metadata": {},
   "outputs": [
    {
     "name": "stdout",
     "output_type": "stream",
     "text": [
      "2023-06-13 20:28:01.559496: W tensorflow/compiler/tf2tensorrt/utils/py_utils.cc:38] TF-TRT Warning: Could not find TensorRT\n",
      "\n",
      "NOTE: Using experimental fast data loading logic. To disable, pass\n",
      "    \"--load_fast=false\" and report issues on GitHub. More details:\n",
      "    https://github.com/tensorflow/tensorboard/issues/4784\n",
      "\n",
      "Serving TensorBoard on localhost; to expose to the network, use a proxy or pass --bind_all\n",
      "TensorBoard 2.12.0 at http://localhost:6006/ (Press CTRL+C to quit)\n"
     ]
    }
   ],
   "source": [
    "!tensorboard --logdir=logs/FB15k237"
   ]
  }
 ],
 "metadata": {
  "kernelspec": {
   "display_name": "Python 3 (ipykernel)",
   "language": "python",
   "name": "python3"
  },
  "language_info": {
   "codemirror_mode": {
    "name": "ipython",
    "version": 3
   },
   "file_extension": ".py",
   "mimetype": "text/x-python",
   "name": "python",
   "nbconvert_exporter": "python",
   "pygments_lexer": "ipython3",
   "version": "3.10.11"
  }
 },
 "nbformat": 4,
 "nbformat_minor": 5
}
