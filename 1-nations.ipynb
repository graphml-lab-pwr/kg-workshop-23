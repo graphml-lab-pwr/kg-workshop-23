{
 "cells": [
  {
   "cell_type": "code",
   "execution_count": null,
   "id": "fae253a7-8b9e-415d-88e5-7e2726f3ab33",
   "metadata": {},
   "outputs": [],
   "source": [
    "%load_ext autoreload\n",
    "%autoreload 2"
   ]
  },
  {
   "cell_type": "code",
   "execution_count": null,
   "id": "70df50f6-ddfb-4c7c-8681-0528910dec97",
   "metadata": {},
   "outputs": [],
   "source": [
    "import os\n",
    "\n",
    "os.environ[\"TF_CPP_MIN_LOG_LEVEL\"] = \"3\""
   ]
  },
  {
   "cell_type": "code",
   "execution_count": null,
   "id": "e63d87bc-a747-4d68-9316-4bb4e8b60d58",
   "metadata": {},
   "outputs": [],
   "source": [
    "import logging\n",
    "\n",
    "import matplotlib.pyplot as plt\n",
    "import torch\n",
    "from pykeen.datasets import Nations\n",
    "from pykeen.pipeline import pipeline\n",
    "from statistics import mean, median\n",
    "import pandas as pd\n",
    "import numpy as np\n",
    "import seaborn as sns\n",
    "import networkx as nx\n",
    "from pyvis.network import Network\n",
    "from ipywidgets import interact\n",
    "import ipywidgets as widgets\n",
    "from itertools import chain\n",
    "from pathlib import Path\n",
    "from rich import print\n",
    "\n",
    "from utils import prepare_for_visualization"
   ]
  },
  {
   "cell_type": "markdown",
   "id": "1aa368bd-734a-47e6-8054-857ba0014b77",
   "metadata": {},
   "source": [
    "## Settings"
   ]
  },
  {
   "cell_type": "code",
   "execution_count": null,
   "id": "468a82cf-239e-4449-a4f9-d570a5c6f558",
   "metadata": {},
   "outputs": [],
   "source": [
    "import warnings\n",
    "\n",
    "warnings.filterwarnings(\"ignore\")\n",
    "warnings.simplefilter(\"ignore\")\n",
    "\n",
    "pd.set_option(\"display.float_format\", lambda x: \"%.5f\" % x)\n",
    "logging.getLogger(\"pykeen\").setLevel(logging.CRITICAL)"
   ]
  },
  {
   "cell_type": "markdown",
   "id": "e6f23caa-6d2c-41e6-bddf-9fe17b11ce10",
   "metadata": {},
   "source": [
    "## Loading data"
   ]
  },
  {
   "cell_type": "code",
   "execution_count": null,
   "id": "0e752a30-0097-408c-94e2-4585c5bdcf3e",
   "metadata": {},
   "outputs": [],
   "source": [
    "dataset = Nations()\n",
    "\n",
    "g = nx.DiGraph()\n",
    "g.add_edges_from([(h, t, {\"title\": r}) for h, r, t in dataset.training.triples])"
   ]
  },
  {
   "cell_type": "markdown",
   "id": "ec70b691-b1c8-408a-a047-107f338a307c",
   "metadata": {},
   "source": [
    "## Visualization"
   ]
  },
  {
   "cell_type": "code",
   "execution_count": null,
   "id": "d46bdfde-b5aa-44c1-ad40-2e9b217d037e",
   "metadata": {},
   "outputs": [],
   "source": [
    "nt = Network(\"500px\", \"500px\", directed=True, notebook=True)\n",
    "nt.inherit_edge_colors(False)\n",
    "nt.from_nx(g)\n",
    "nt.toggle_physics(False)\n",
    "nt.show(\"basic.html\")"
   ]
  },
  {
   "cell_type": "code",
   "execution_count": null,
   "id": "c459b71d-9721-4fdc-8810-f8db3b5aaf37",
   "metadata": {},
   "outputs": [],
   "source": [
    "_list_nodes = list(g.nodes)\n",
    "\n",
    "\n",
    "@interact\n",
    "def visualize(\n",
    "    nodes=widgets.SelectMultiple(options=list(g.nodes), value=[_list_nodes[0]]),\n",
    "    k=[0, 1, 2, 3],\n",
    "    toggle_physics=False,\n",
    "):\n",
    "    filtered = set(\n",
    "        chain(\n",
    "            *[\n",
    "                list(nx.single_source_shortest_path_length(g, n, cutoff=k))\n",
    "                for n in nodes\n",
    "            ]\n",
    "        )\n",
    "    )\n",
    "    # print(filtered)\n",
    "    subgraph = nx.subgraph_view(g, filter_node=lambda x: x in filtered)\n",
    "    nt = Network(\n",
    "        \"500px\", \"500px\", directed=True, notebook=True, cdn_resources=\"in_line\"\n",
    "    )\n",
    "    nt.inherit_edge_colors(False)\n",
    "    nt.from_nx(subgraph)\n",
    "    nt.toggle_physics(toggle_physics)\n",
    "    display(nt.show(\"basic.html\"))"
   ]
  },
  {
   "cell_type": "markdown",
   "id": "b39acfed-f523-48ff-9bb1-4440dcde625a",
   "metadata": {},
   "source": [
    "## EDA"
   ]
  },
  {
   "cell_type": "code",
   "execution_count": null,
   "id": "cee4242d-be56-4e11-89b3-1e155ed5da52",
   "metadata": {},
   "outputs": [],
   "source": [
    "data = []\n",
    "for subset_name in [\"training\", \"validation\", \"testing\"]:\n",
    "    subset_metrics = {\"subset\": subset_name}\n",
    "    subset = dataset.__getattribute__(subset_name)\n",
    "    triples = subset.triples\n",
    "    subset_metrics[\"num_triples\"] = len(triples)\n",
    "    subset_metrics[\"num_entities\"] = len(np.unique(triples[:, [0, 2]]))\n",
    "    subset_metrics[\"num_relations\"] = len(np.unique(triples[:, 1]))\n",
    "    data.append(subset_metrics)\n",
    "\n",
    "pd.DataFrame(data)"
   ]
  },
  {
   "cell_type": "code",
   "execution_count": null,
   "id": "ff788fca-9b36-4e75-b283-3f9d0201f4b5",
   "metadata": {},
   "outputs": [],
   "source": [
    "metrics = {}\n",
    "metrics[\"n_connected_components\"] = nx.number_connected_components(g.to_undirected())\n",
    "metrics[\"mean_size_of_connected_components\"] = mean(\n",
    "    len(c) for c in nx.connected_components(g.to_undirected())\n",
    ")\n",
    "metrics[\"median_size_of_connected_components\"] = median(\n",
    "    len(c) for c in nx.connected_components(g.to_undirected())\n",
    ")\n",
    "metrics[\"density\"] = nx.density(g)\n",
    "metrics[\"number_of_selfloops\"] = nx.number_of_selfloops(g)\n",
    "metrics[\"average_clustering\"] = nx.average_clustering(g)\n",
    "\n",
    "pd.DataFrame({\"training\": metrics})"
   ]
  },
  {
   "cell_type": "code",
   "execution_count": null,
   "id": "05759824-c591-405d-9606-d15e8200f677",
   "metadata": {},
   "outputs": [],
   "source": [
    "x, y = zip(*g.degree())\n",
    "\n",
    "fig, axes = plt.subplots(1, 2, figsize=(10, 5))\n",
    "axes[0].set_title(\"Degree of nodes\")\n",
    "axes[0].barh(y=x, width=y)\n",
    "axes[1].set_title(\"Degree Histogram\")\n",
    "sns.histplot([d for n, d in g.degree()], ax=axes[1])\n",
    "plt.tight_layout()"
   ]
  },
  {
   "cell_type": "markdown",
   "id": "37843205-f5cf-4a77-8f5c-87e0d65cc5b4",
   "metadata": {},
   "source": [
    "## Training "
   ]
  },
  {
   "cell_type": "code",
   "execution_count": null,
   "id": "50f0ec1d-0f32-42b9-a08e-ce18b8292e19",
   "metadata": {},
   "outputs": [],
   "source": [
    "result = pipeline(\n",
    "    dataset=\"Nations\",\n",
    "    model=\"TransE\",\n",
    "    model_kwargs={\"embedding_dim\": 64},\n",
    "    loss=\"nssa\",\n",
    "    loss_kwargs={\"adversarial_temperature\": 0.34, \"margin\": 9},\n",
    "    optimizer=\"Adam\",\n",
    "    optimizer_kwargs={\"lr\": 0.004},\n",
    "    negative_sampler_kwargs={\"num_negs_per_pos\": 33},\n",
    "    training_kwargs=dict(\n",
    "        num_epochs=50,\n",
    "        batch_size=512,\n",
    "        use_tqdm_batch=False,\n",
    "    ),\n",
    "    random_seed=123,\n",
    ")"
   ]
  },
  {
   "cell_type": "code",
   "execution_count": null,
   "id": "d2efe8c1-2af2-423b-aa85-77c9bcd5286b",
   "metadata": {},
   "outputs": [],
   "source": [
    "save_location = Path(\"results/nations\")\n",
    "save_location.mkdir(exist_ok=True, parents=True)\n",
    "result.save_to_directory(save_location)\n",
    "print(f\"Saved: {os.listdir(save_location)}\")"
   ]
  },
  {
   "cell_type": "markdown",
   "id": "e704a3fe-e988-43ff-8215-4335af746af1",
   "metadata": {},
   "source": [
    "## Metrics"
   ]
  },
  {
   "cell_type": "code",
   "execution_count": null,
   "id": "e0d874e8-4be3-47d6-87d1-4f5282c1cee5",
   "metadata": {},
   "outputs": [],
   "source": [
    "result.plot_losses()\n",
    "plt.show()"
   ]
  },
  {
   "cell_type": "code",
   "execution_count": null,
   "id": "399f7334-cdfc-4739-97a3-b43128198f07",
   "metadata": {},
   "outputs": [],
   "source": [
    "metrics = result.metric_results.to_df()"
   ]
  },
  {
   "cell_type": "code",
   "execution_count": null,
   "id": "a39c5792-ec32-470d-aec0-d65558a5071f",
   "metadata": {},
   "outputs": [],
   "source": [
    "metrics[(metrics.Side == \"both\") & (metrics.Type == \"realistic\")]"
   ]
  },
  {
   "cell_type": "markdown",
   "id": "99dd0181-717b-446e-b486-69aaa622dc0b",
   "metadata": {},
   "source": [
    "## Embeddings visualization"
   ]
  },
  {
   "cell_type": "code",
   "execution_count": null,
   "id": "cbe46181-124b-45fe-b144-51c2d51af94a",
   "metadata": {},
   "outputs": [],
   "source": [
    "model = result.model\n",
    "model"
   ]
  },
  {
   "cell_type": "code",
   "execution_count": null,
   "id": "1a8263fa-0045-49a0-a141-410b9928adc1",
   "metadata": {},
   "outputs": [],
   "source": [
    "embeddings = result.model.entity_representations[0](torch.arange(dataset.num_entities))\n",
    "labels = [dataset.training.entity_id_to_label[i] for i in range(dataset.num_entities)]"
   ]
  },
  {
   "cell_type": "code",
   "execution_count": null,
   "id": "798d4e76-08d1-4c96-9d13-2b39bdc03448",
   "metadata": {},
   "outputs": [],
   "source": [
    "prepare_for_visualization(embeddings.detach().numpy(), labels, Path(\"logs/nations\"))"
   ]
  },
  {
   "cell_type": "code",
   "execution_count": null,
   "id": "4723aba1-2c27-4801-adaa-fcb3eb79b04b",
   "metadata": {},
   "outputs": [],
   "source": [
    "!tensorboard --logdir=logs/nations"
   ]
  }
 ],
 "metadata": {
  "kernelspec": {
   "display_name": "Python 3 (ipykernel)",
   "language": "python",
   "name": "python3"
  },
  "language_info": {
   "codemirror_mode": {
    "name": "ipython",
    "version": 3
   },
   "file_extension": ".py",
   "mimetype": "text/x-python",
   "name": "python",
   "nbconvert_exporter": "python",
   "pygments_lexer": "ipython3",
   "version": "3.11.3"
  }
 },
 "nbformat": 4,
 "nbformat_minor": 5
}
